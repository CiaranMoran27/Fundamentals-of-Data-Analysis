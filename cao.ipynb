{
 "cells": [
  {
   "cell_type": "markdown",
   "id": "6372b1f0-bc0b-49ff-959d-0c8bd0ba685d",
   "metadata": {},
   "source": [
    "# CAO Points Analysis\n",
    "## Acquiring the data\n",
    "***"
   ]
  },
  {
   "cell_type": "markdown",
   "id": "2fe84d05-db34-44a1-9f7c-34738276ce52",
   "metadata": {},
   "source": [
    "### 2021 [link](http://www.cao.ie/index.php?page=points&p=2021)"
   ]
  },
  {
   "cell_type": "code",
   "execution_count": 1,
   "id": "be14c9da-91d1-437f-812a-491c391cb23b",
   "metadata": {},
   "outputs": [],
   "source": [
    "# import required libraries\n",
    "import requests as rq             # Convenient HTTP requests.\n",
    "import re                         # Regular expressions.\n",
    "import datetime as dt    \n",
    "import pandas as pd\n",
    "import numpy as np"
   ]
  },
  {
   "cell_type": "code",
   "execution_count": 2,
   "id": "f1a9bf50-9b34-429b-8074-894e3aa91301",
   "metadata": {},
   "outputs": [
    {
     "data": {
      "text/plain": [
       "<Response [200]>"
      ]
     },
     "execution_count": 2,
     "metadata": {},
     "output_type": "execute_result"
    }
   ],
   "source": [
    "# Make a get request to 2021 CAO points URL\n",
    "resp = rq.get('http://www2.cao.ie/points/l8.php')\n",
    "\n",
    "# Check that value = 200 (in which case a connection is made).\n",
    "resp"
   ]
  },
  {
   "cell_type": "markdown",
   "id": "992d01be-6a5b-4d6b-9ee0-0de7476e01bc",
   "metadata": {},
   "source": [
    "<br>\n",
    "\n",
    "**Encoding note:<br>Error on server** <br>\n",
    "The Server indicated one should decode as per: Content-Type: text/html; charset=iso-8859-1. However, one line of the html uses<br> \n",
    "\\x96 which isn't defined in iso-8859-1. Therefore the similar decoding standard cp1252 will be  used. This standard is very similar but<br>\n",
    "includes \\x96."
   ]
  },
  {
   "cell_type": "code",
   "execution_count": 3,
   "id": "75911ea5-4d99-4769-8477-b059781ee681",
   "metadata": {},
   "outputs": [],
   "source": [
    "# Specify encoding method \n",
    "resp.encoding = 'cp1252'\n",
    "\n",
    "# Create a file path for the original data.\n",
    "html_path = 'data/cao_2021_raw_data.html'\n",
    "\n",
    "# Save original html file\n",
    "with open(html_path, 'w') as f:\n",
    "    f.write(resp.text)"
   ]
  },
  {
   "cell_type": "code",
   "execution_count": 4,
   "id": "47e52d97-c8fd-42c6-b741-134abd25c554",
   "metadata": {},
   "outputs": [
    {
     "name": "stdout",
     "output_type": "stream",
     "text": [
      "Total number of lines is lines is 949.\n",
      "This was manually verified against\"cao_2021_raw_data.html.\n"
     ]
    }
   ],
   "source": [
    "\n",
    "def scrape_html_from_website(path, regex):\n",
    "    \n",
    "    num_lines = 0                                       # Keep track of courses counted in loop\n",
    "    with open(path, 'w') as f:                          # Open the csv file for writing.          \n",
    "        for line in resp.iter_lines():                      # Loop through lines of the response \n",
    "            dline = line.decode('cp1252')                       # decode the line \n",
    "            if regex.fullmatch(dline):                          # Match only the lines representing courses.       \n",
    "                num_lines = num_lines + 1                           # Add one to the lines counter if match occured      \n",
    "                course_code = dline[:5]                             # isolate course code \n",
    "                course_title = dline[7:57].strip()                  # isolate course title         \n",
    "                course_points = re.split(' +', dline[60:])          # split string when on one or more spaces               \n",
    "                \n",
    "                if len(course_points) != 2:                   # if list length not equal to 2         \n",
    "                    course_points = course_points[:2]         # then retain first two elements of list\n",
    "                   \n",
    "                linesplit = [course_code, course_title, course_points[0], course_points[1]]\n",
    "                f.write(','.join(linesplit) + '\\n')\n",
    "    \n",
    "    print('Total number of lines is lines is {}.\\nThis was manually verified against\\\n",
    "\"cao_2021_raw_data.html.'.format(num_lines))  \n",
    "    \n",
    "# Compile the regular expression for matching lines\n",
    "    # ([A-Z]{2}[0-9]{3}) matches A-Z x2 characters, 0-9  x3 characters\n",
    "    # (.*) Matches any single character except newline zero or more times \n",
    "re_course = re.compile(r'([A-Z]{2}[0-9]{3})(.*)')  \n",
    "\n",
    "# write parsed data to csv file\n",
    "write_path = 'data/cao_2021_final_data.csv'         \n",
    "scrape_html_from_website(write_path, re_course)"
   ]
  },
  {
   "cell_type": "markdown",
   "id": "ef6c7485-a78d-4a9e-9a28-7cbe9c3777d2",
   "metadata": {},
   "source": [
    "### 2020 [link](http://www2.cao.ie/points/CAOPointsCharts2020.xlsx)\n",
    "***"
   ]
  },
  {
   "cell_type": "code",
   "execution_count": 5,
   "id": "874a2c95-7733-49fa-9e12-09fdc9e79461",
   "metadata": {},
   "outputs": [],
   "source": [
    "url2020 = 'http://www2.cao.ie/points/CAOPointsCharts2020.xlsx'\n",
    "\n",
    "# request url and write data to disc\n",
    "resp = rq.get(url2020)                  \n",
    "\n",
    "# open file for writing in binary mode\n",
    "output = open('data/cao_2020_raw_data.xlsx', 'wb')    \n",
    "output.write(resp.content)\n",
    "output.close()"
   ]
  },
  {
   "cell_type": "code",
   "execution_count": 6,
   "id": "a0e35682-e857-4a63-be1e-74a1312969ee",
   "metadata": {},
   "outputs": [],
   "source": [
    "def data_handler_2020(url):       \n",
    "    df = pd.read_excel(url, skiprows = 10)               # read excel & skip first 10 rows (irrelevant)\n",
    "    df = df.iloc[: , :-8]                                # drop last 8 columns              \n",
    "    return df\n",
    "\n",
    "df_2020 = data_handler_2020(url2020)\n",
    "\n",
    "# Save dataframe to disk.\n",
    "write_path = 'data/cao_2020_final_data.csv'\n",
    "df_2020.to_csv(write_path, encoding = \"utf-8\")"
   ]
  },
  {
   "cell_type": "code",
   "execution_count": 7,
   "id": "28a0f8d3-306a-4de5-954f-f40e6688518e",
   "metadata": {},
   "outputs": [
    {
     "name": "stdout",
     "output_type": "stream",
     "text": [
      "CATEGORY (i.e.ISCED description)                                                Arts\n",
      "COURSE TITLE                        Popular Music: Drums at CIT Cork School of Music\n",
      "COURSE CODE2                                                                   CR126\n",
      "R1 POINTS                                                                        801\n",
      "R1 Random *                                                                      NaN\n",
      "R2 POINTS                                                                        NaN\n",
      "R2 Random*                                                                       NaN\n",
      "EOS                                                                              801\n",
      "EOS Random *                                                                     NaN\n",
      "EOS Mid-point                                                                    940\n",
      "LEVEL                                                                              8\n",
      "HEI                                                     Cork Institute of Technology\n",
      "Test/Interview #                                                                   #\n",
      "avp                                                                              NaN\n",
      "v                                                                                NaN\n",
      "Name: 189, dtype: object\n",
      "CATEGORY (i.e.ISCED description)          Engineering and engineering trades\n",
      "COURSE TITLE                        Mechanical and Manufacturing Engineering\n",
      "COURSE CODE2                                                           WD230\n",
      "R1 POINTS                                                                253\n",
      "R1 Random *                                                              NaN\n",
      "R2 POINTS                                                                NaN\n",
      "R2 Random*                                                               NaN\n",
      "EOS                                                                      253\n",
      "EOS Random *                                                             NaN\n",
      "EOS Mid-point                                                            369\n",
      "LEVEL                                                                      8\n",
      "HEI                                        Waterford Institute of Technology\n",
      "Test/Interview #                                                         NaN\n",
      "avp                                                                      NaN\n",
      "v                                                                        NaN\n",
      "Name: 1463, dtype: object\n"
     ]
    }
   ],
   "source": [
    "# Spot check a random row.\n",
    "print(df_2020.iloc[189])\n",
    "\n",
    "# Spot check last row.\n",
    "print(df_2020.iloc[-1])"
   ]
  },
  {
   "cell_type": "markdown",
   "id": "9950f85a-1502-4565-bf8e-36abd02e8d5e",
   "metadata": {},
   "source": [
    "### 2019"
   ]
  },
  {
   "cell_type": "code",
   "execution_count": 8,
   "id": "841d0678-0374-4f2a-bf20-2bdc51d2ae2c",
   "metadata": {},
   "outputs": [],
   "source": [
    "import urllib3\n",
    "import pdfplumber\n",
    "import io\n",
    "\n",
    "\n",
    "def scrape_pdf_from_website(url):\n",
    "    http = urllib3.PoolManager()                                   # instansiate pool manager object for sending requests\n",
    "    temp_binary = io.BytesIO()                                     # create instance for storing binary data\n",
    "    temp_binary.write(http.request(\"GET\", url).data)               # request url data and write to temp_binary storage\n",
    "    \n",
    "    data_final = ''  \n",
    "    with pdfplumber.open(temp_binary) as pdf:                      # open storage object      \n",
    "        for page in pdf.pages:                                         # iterate pages of pdf object\n",
    "            data = page.extract_text()                                 # extract text of page\n",
    "            data_final += data                                         # concatenates text to data_final variable\n",
    "    return data_final\n",
    "\n",
    "url  = 'http://www2.cao.ie/points/lvl8_19.pdf'\n",
    "pdf_text = scrape_pdf_from_website(url)"
   ]
  },
  {
   "cell_type": "code",
   "execution_count": 9,
   "id": "23fe2337-20b8-48d9-a3b4-f1227ee5eedb",
   "metadata": {},
   "outputs": [
    {
     "name": "stdout",
     "output_type": "stream",
     "text": [
      "NB: it was verified as of 26/11/2021 that there were 930 courses exactly in the CAO 2019 points list.\n"
     ]
    }
   ],
   "source": [
    "def data_handler_2019(regex, line_splitter, text):\n",
    "    \n",
    "    df_data = []                                                   # placeholder to add list of rows to\n",
    "    #print(text)\n",
    "    #for char in text:                                         # iterate file chars  \n",
    "    for match in re.finditer(regex, text):                    # iterate matches each line\n",
    "        course_code = match.group()[0:6]                           # isolate course code\n",
    "        rest_of_line =  match.group()[6:]                          # isolate all of line after course code \n",
    "        rest_of_line = re.split(line_splitter ,rest_of_line)           # split lines using passed criteria\n",
    "        df_data.append([course_code] + rest_of_line)\n",
    "                        \n",
    "    df = pd.DataFrame(df_data)                                # convert array to dataframe\n",
    "    return df\n",
    "\n",
    "\n",
    "# regex statement (will isolate all lines starting with course code)\n",
    "regex = re.compile(r'([A-Z]{2}[0-9]{3})(.*)')\n",
    "line_split_conditions = '(#\\d{3}\\* |#\\d{2}\\* |\\d{3}\\* |\\d{2}\\* |\\d{3} |\\d{2} |#\\d{3} |#\\d{2} |# \\+matric|#)'\n",
    "\n",
    "df_2019 = data_handler_2019(regex, line_split_conditions, pdf_text)\n",
    "df_2019.to_csv('data/cao_2019_final.csv')\n",
    "\n",
    "print('NB: it was verified as of 26/11/2021 that there were {} courses exactly in the CAO 2019 points list.'\n",
    "      .format(len(df_2019.index)))\n"
   ]
  },
  {
   "cell_type": "code",
   "execution_count": 10,
   "id": "28977767-cd2d-4a71-a0a1-473e25fc9d1d",
   "metadata": {},
   "outputs": [
    {
     "name": "stdout",
     "output_type": "stream",
     "text": [
      "0        CW708 \n",
      "1    Law - LLB \n",
      "2          298 \n",
      "3           328\n",
      "Name: 50, dtype: object\n",
      "0                                       WD230 \n",
      "1    Mechanical and Manufacturing Engineering \n",
      "2                                         273 \n",
      "3                                          348\n",
      "Name: 929, dtype: object\n"
     ]
    }
   ],
   "source": [
    "# Spot check a random row.\n",
    "print(df_2019.iloc[50])\n",
    "\n",
    "# Spot chcek last row.\n",
    "print(df_2019.iloc[-1])"
   ]
  },
  {
   "cell_type": "markdown",
   "id": "57dd9f2a-17bc-4185-ab1c-03995bd2a048",
   "metadata": {},
   "source": [
    "<br>\n",
    "\n",
    "## Joining the data\n",
    "***"
   ]
  },
  {
   "cell_type": "markdown",
   "id": "19904160-9682-47d7-9cf3-ca65404463cc",
   "metadata": {},
   "source": [
    "### Get unique course codes"
   ]
  },
  {
   "cell_type": "code",
   "execution_count": 11,
   "id": "56e7edee-96d9-4c41-885f-3dff9c8360e6",
   "metadata": {},
   "outputs": [
    {
     "name": "stdout",
     "output_type": "stream",
     "text": [
      "2019 df columns are: RangeIndex(start=0, stop=4, step=1)\n",
      "2020 df columns are: Index(['CATEGORY (i.e.ISCED description)', 'COURSE TITLE', 'COURSE CODE2',\n",
      "       'R1 POINTS', 'R1 Random *', 'R2 POINTS', 'R2 Random*', 'EOS',\n",
      "       'EOS Random *', 'EOS Mid-point', 'LEVEL', 'HEI', 'Test/Interview #',\n",
      "       'avp', 'v'],\n",
      "      dtype='object')\n",
      "2021 df columns are: Int64Index([0, 1, 2, 3], dtype='int64')\n"
     ]
    }
   ],
   "source": [
    "# read in 2021 data from csv and convert to dataframe\n",
    "df_2021 =  pd.read_csv('data/cao_2021_final_data.csv', encoding ='cp1252', header = None)\n",
    "\n",
    "# check dataframe column names\n",
    "print('2019 df columns are: {}'.format(df_2019.columns))\n",
    "print('2020 df columns are: {}'.format(df_2020.columns))\n",
    "print('2021 df columns are: {}'.format(df_2021.columns))"
   ]
  },
  {
   "cell_type": "code",
   "execution_count": 12,
   "id": "07963bf1-53f3-4542-a59a-4ee128a8a391",
   "metadata": {},
   "outputs": [],
   "source": [
    "# isolate code and title cols (first two cols) accross all datframes\n",
    "courses_2019 = df_2019[[0, 1]]\n",
    "courses_2020 = df_2020[['COURSE CODE2','COURSE TITLE']]               \n",
    "courses_2021 = df_2021[[0, 1]]"
   ]
  },
  {
   "cell_type": "code",
   "execution_count": 13,
   "id": "49a83641-fc5a-4222-8646-6c27a0f6c368",
   "metadata": {},
   "outputs": [],
   "source": [
    "# define col_names for dataframes\n",
    "courses_2019.columns = ['code', 'course_title']\n",
    "courses_2020.columns = ['code', 'course_title']\n",
    "courses_2021.columns = ['code', 'course_title']"
   ]
  },
  {
   "cell_type": "code",
   "execution_count": 14,
   "id": "4fddec80-212c-4fd3-9628-4555395be904",
   "metadata": {},
   "outputs": [
    {
     "data": {
      "text/html": [
       "<div>\n",
       "<style scoped>\n",
       "    .dataframe tbody tr th:only-of-type {\n",
       "        vertical-align: middle;\n",
       "    }\n",
       "\n",
       "    .dataframe tbody tr th {\n",
       "        vertical-align: top;\n",
       "    }\n",
       "\n",
       "    .dataframe thead th {\n",
       "        text-align: right;\n",
       "    }\n",
       "</style>\n",
       "<table border=\"1\" class=\"dataframe\">\n",
       "  <thead>\n",
       "    <tr style=\"text-align: right;\">\n",
       "      <th></th>\n",
       "      <th>code</th>\n",
       "      <th>course_title</th>\n",
       "    </tr>\n",
       "  </thead>\n",
       "  <tbody>\n",
       "    <tr>\n",
       "      <th>175</th>\n",
       "      <td>AC120</td>\n",
       "      <td>International Business</td>\n",
       "    </tr>\n",
       "    <tr>\n",
       "      <th>949</th>\n",
       "      <td>AC120</td>\n",
       "      <td>International Business</td>\n",
       "    </tr>\n",
       "    <tr>\n",
       "      <th>2581</th>\n",
       "      <td>AC120</td>\n",
       "      <td>International Business</td>\n",
       "    </tr>\n",
       "    <tr>\n",
       "      <th>950</th>\n",
       "      <td>AC137</td>\n",
       "      <td>Liberal Arts</td>\n",
       "    </tr>\n",
       "    <tr>\n",
       "      <th>176</th>\n",
       "      <td>AC137</td>\n",
       "      <td>Liberal Arts</td>\n",
       "    </tr>\n",
       "    <tr>\n",
       "      <th>...</th>\n",
       "      <td>...</td>\n",
       "      <td>...</td>\n",
       "    </tr>\n",
       "    <tr>\n",
       "      <th>2412</th>\n",
       "      <td>WD230</td>\n",
       "      <td>Mechanical and Manufacturing Engineering</td>\n",
       "    </tr>\n",
       "    <tr>\n",
       "      <th>946</th>\n",
       "      <td>WD230</td>\n",
       "      <td>Mechanical and Manufacturing Engineering</td>\n",
       "    </tr>\n",
       "    <tr>\n",
       "      <th>3342</th>\n",
       "      <td>WD230</td>\n",
       "      <td>Mechanical and Manufacturing Engineering</td>\n",
       "    </tr>\n",
       "    <tr>\n",
       "      <th>947</th>\n",
       "      <td>WD231</td>\n",
       "      <td>Early Childhood Care and Education</td>\n",
       "    </tr>\n",
       "    <tr>\n",
       "      <th>948</th>\n",
       "      <td>WD232</td>\n",
       "      <td>Business Information Systems</td>\n",
       "    </tr>\n",
       "  </tbody>\n",
       "</table>\n",
       "<p>3343 rows × 2 columns</p>\n",
       "</div>"
      ],
      "text/plain": [
       "        code                               course_title\n",
       "175    AC120                     International Business\n",
       "949    AC120                     International Business\n",
       "2581  AC120                     International Business \n",
       "950    AC137                               Liberal Arts\n",
       "176    AC137                               Liberal Arts\n",
       "...      ...                                        ...\n",
       "2412   WD230   Mechanical and Manufacturing Engineering\n",
       "946    WD230   Mechanical and Manufacturing Engineering\n",
       "3342  WD230   Mechanical and Manufacturing Engineering \n",
       "947    WD231         Early Childhood Care and Education\n",
       "948    WD232               Business Information Systems\n",
       "\n",
       "[3343 rows x 2 columns]"
      ]
     },
     "execution_count": 14,
     "metadata": {},
     "output_type": "execute_result"
    }
   ],
   "source": [
    "# append the three dataframes and sort code alphabetically\n",
    "all_courses = pd.concat([courses_2021, courses_2020, courses_2019], ignore_index = True)\n",
    "all_courses.sort_values('code')"
   ]
  },
  {
   "cell_type": "code",
   "execution_count": 15,
   "id": "9356b7dc-c44f-44af-8a7e-c8aaebe4f7ba",
   "metadata": {},
   "outputs": [
    {
     "data": {
      "text/html": [
       "<div>\n",
       "<style scoped>\n",
       "    .dataframe tbody tr th:only-of-type {\n",
       "        vertical-align: middle;\n",
       "    }\n",
       "\n",
       "    .dataframe tbody tr th {\n",
       "        vertical-align: top;\n",
       "    }\n",
       "\n",
       "    .dataframe thead th {\n",
       "        text-align: right;\n",
       "    }\n",
       "</style>\n",
       "<table border=\"1\" class=\"dataframe\">\n",
       "  <thead>\n",
       "    <tr style=\"text-align: right;\">\n",
       "      <th></th>\n",
       "      <th>code</th>\n",
       "      <th>course_title</th>\n",
       "    </tr>\n",
       "  </thead>\n",
       "  <tbody>\n",
       "    <tr>\n",
       "      <th>949</th>\n",
       "      <td>AC120</td>\n",
       "      <td>International Business</td>\n",
       "    </tr>\n",
       "    <tr>\n",
       "      <th>950</th>\n",
       "      <td>AC137</td>\n",
       "      <td>Liberal Arts</td>\n",
       "    </tr>\n",
       "    <tr>\n",
       "      <th>952</th>\n",
       "      <td>AD102</td>\n",
       "      <td>Graphic Design and Moving Image Design (portfo...</td>\n",
       "    </tr>\n",
       "    <tr>\n",
       "      <th>955</th>\n",
       "      <td>AD204</td>\n",
       "      <td>Fine Art (portfolio)</td>\n",
       "    </tr>\n",
       "    <tr>\n",
       "      <th>956</th>\n",
       "      <td>AD211</td>\n",
       "      <td>Fashion Design (portfolio)</td>\n",
       "    </tr>\n",
       "    <tr>\n",
       "      <th>...</th>\n",
       "      <td>...</td>\n",
       "      <td>...</td>\n",
       "    </tr>\n",
       "    <tr>\n",
       "      <th>2404</th>\n",
       "      <td>WD200</td>\n",
       "      <td>Arts (options)</td>\n",
       "    </tr>\n",
       "    <tr>\n",
       "      <th>2409</th>\n",
       "      <td>WD210</td>\n",
       "      <td>Software Systems Development</td>\n",
       "    </tr>\n",
       "    <tr>\n",
       "      <th>2410</th>\n",
       "      <td>WD211</td>\n",
       "      <td>Creative Computing</td>\n",
       "    </tr>\n",
       "    <tr>\n",
       "      <th>2411</th>\n",
       "      <td>WD212</td>\n",
       "      <td>Recreation and Sport Management</td>\n",
       "    </tr>\n",
       "    <tr>\n",
       "      <th>2412</th>\n",
       "      <td>WD230</td>\n",
       "      <td>Mechanical and Manufacturing Engineering</td>\n",
       "    </tr>\n",
       "  </tbody>\n",
       "</table>\n",
       "<p>739 rows × 2 columns</p>\n",
       "</div>"
      ],
      "text/plain": [
       "       code                                       course_title\n",
       "949   AC120                             International Business\n",
       "950   AC137                                       Liberal Arts\n",
       "952   AD102  Graphic Design and Moving Image Design (portfo...\n",
       "955   AD204                               Fine Art (portfolio)\n",
       "956   AD211                         Fashion Design (portfolio)\n",
       "...     ...                                                ...\n",
       "2404  WD200                                     Arts (options)\n",
       "2409  WD210                       Software Systems Development\n",
       "2410  WD211                                 Creative Computing\n",
       "2411  WD212                    Recreation and Sport Management\n",
       "2412  WD230           Mechanical and Manufacturing Engineering\n",
       "\n",
       "[739 rows x 2 columns]"
      ]
     },
     "execution_count": 15,
     "metadata": {},
     "output_type": "execute_result"
    }
   ],
   "source": [
    "# return all rows that are duplicates\n",
    "all_courses[all_courses.duplicated()]"
   ]
  },
  {
   "cell_type": "code",
   "execution_count": 16,
   "id": "81f23480-6e9e-4f11-88ae-543fe838a04f",
   "metadata": {},
   "outputs": [
    {
     "data": {
      "text/html": [
       "<div>\n",
       "<style scoped>\n",
       "    .dataframe tbody tr th:only-of-type {\n",
       "        vertical-align: middle;\n",
       "    }\n",
       "\n",
       "    .dataframe tbody tr th {\n",
       "        vertical-align: top;\n",
       "    }\n",
       "\n",
       "    .dataframe thead th {\n",
       "        text-align: right;\n",
       "    }\n",
       "</style>\n",
       "<table border=\"1\" class=\"dataframe\">\n",
       "  <thead>\n",
       "    <tr style=\"text-align: right;\">\n",
       "      <th></th>\n",
       "      <th>code</th>\n",
       "      <th>course_title</th>\n",
       "    </tr>\n",
       "  </thead>\n",
       "  <tbody>\n",
       "    <tr>\n",
       "      <th>0</th>\n",
       "      <td>AL801</td>\n",
       "      <td>Software Design for Virtual Reality and Gaming</td>\n",
       "    </tr>\n",
       "    <tr>\n",
       "      <th>1</th>\n",
       "      <td>AL802</td>\n",
       "      <td>Software Design in Artificial Intelligence for...</td>\n",
       "    </tr>\n",
       "    <tr>\n",
       "      <th>2</th>\n",
       "      <td>AL803</td>\n",
       "      <td>Software Design for Mobile Apps and Connected ...</td>\n",
       "    </tr>\n",
       "    <tr>\n",
       "      <th>3</th>\n",
       "      <td>AL805</td>\n",
       "      <td>Computer Engineering for Network Infrastructure</td>\n",
       "    </tr>\n",
       "    <tr>\n",
       "      <th>4</th>\n",
       "      <td>AL810</td>\n",
       "      <td>Quantity Surveying</td>\n",
       "    </tr>\n",
       "    <tr>\n",
       "      <th>...</th>\n",
       "      <td>...</td>\n",
       "      <td>...</td>\n",
       "    </tr>\n",
       "    <tr>\n",
       "      <th>3338</th>\n",
       "      <td>WD200</td>\n",
       "      <td>Arts (options)</td>\n",
       "    </tr>\n",
       "    <tr>\n",
       "      <th>3339</th>\n",
       "      <td>WD210</td>\n",
       "      <td>Software Systems Development</td>\n",
       "    </tr>\n",
       "    <tr>\n",
       "      <th>3340</th>\n",
       "      <td>WD211</td>\n",
       "      <td>Creative Computing</td>\n",
       "    </tr>\n",
       "    <tr>\n",
       "      <th>3341</th>\n",
       "      <td>WD212</td>\n",
       "      <td>Recreation and Sport Management</td>\n",
       "    </tr>\n",
       "    <tr>\n",
       "      <th>3342</th>\n",
       "      <td>WD230</td>\n",
       "      <td>Mechanical and Manufacturing Engineering</td>\n",
       "    </tr>\n",
       "  </tbody>\n",
       "</table>\n",
       "<p>2604 rows × 2 columns</p>\n",
       "</div>"
      ],
      "text/plain": [
       "        code                                       course_title\n",
       "0      AL801     Software Design for Virtual Reality and Gaming\n",
       "1      AL802  Software Design in Artificial Intelligence for...\n",
       "2      AL803  Software Design for Mobile Apps and Connected ...\n",
       "3      AL805    Computer Engineering for Network Infrastructure\n",
       "4      AL810                                 Quantity Surveying\n",
       "...      ...                                                ...\n",
       "3338  WD200                                     Arts (options) \n",
       "3339  WD210                       Software Systems Development \n",
       "3340  WD211                                 Creative Computing \n",
       "3341  WD212                    Recreation and Sport Management \n",
       "3342  WD230           Mechanical and Manufacturing Engineering \n",
       "\n",
       "[2604 rows x 2 columns]"
      ]
     },
     "execution_count": 16,
     "metadata": {},
     "output_type": "execute_result"
    }
   ],
   "source": [
    "# return a dataframe whereby duplicate rows are removed leaving a unique Code list\n",
    "# i.e row count = concat (3343) - duplicated (739) = unique (2604)\n",
    "all_courses.drop_duplicates()"
   ]
  }
 ],
 "metadata": {
  "kernelspec": {
   "display_name": "Python 3",
   "language": "python",
   "name": "python3"
  },
  "language_info": {
   "codemirror_mode": {
    "name": "ipython",
    "version": 3
   },
   "file_extension": ".py",
   "mimetype": "text/x-python",
   "name": "python",
   "nbconvert_exporter": "python",
   "pygments_lexer": "ipython3",
   "version": "3.8.8"
  }
 },
 "nbformat": 4,
 "nbformat_minor": 5
}
