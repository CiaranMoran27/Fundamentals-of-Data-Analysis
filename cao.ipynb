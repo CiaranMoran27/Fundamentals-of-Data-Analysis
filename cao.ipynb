{
 "cells": [
  {
   "cell_type": "markdown",
   "id": "6372b1f0-bc0b-49ff-959d-0c8bd0ba685d",
   "metadata": {},
   "source": [
    "# CAO Points Analysis\n",
    "## Acquiring the data\n",
    "***"
   ]
  },
  {
   "cell_type": "markdown",
   "id": "2fe84d05-db34-44a1-9f7c-34738276ce52",
   "metadata": {},
   "source": [
    "### 2021 [link](http://www.cao.ie/index.php?page=points&p=2021)"
   ]
  },
  {
   "cell_type": "code",
   "execution_count": 1,
   "id": "be14c9da-91d1-437f-812a-491c391cb23b",
   "metadata": {},
   "outputs": [],
   "source": [
    "# import required libraries\n",
    "import requests as rq             # Convenient HTTP requests.\n",
    "import re                         # Regular expressions.\n",
    "import datetime as dt    \n",
    "import pandas as pd\n",
    "import numpy as np"
   ]
  },
  {
   "cell_type": "code",
   "execution_count": 2,
   "id": "f1a9bf50-9b34-429b-8074-894e3aa91301",
   "metadata": {},
   "outputs": [
    {
     "data": {
      "text/plain": [
       "<Response [200]>"
      ]
     },
     "execution_count": 2,
     "metadata": {},
     "output_type": "execute_result"
    }
   ],
   "source": [
    "# Make a get request to 2021 CAO points URL\n",
    "resp = rq.get('http://www2.cao.ie/points/l8.php')\n",
    "\n",
    "# Check that value = 200 (in which case a connection is made).\n",
    "resp"
   ]
  },
  {
   "cell_type": "markdown",
   "id": "992d01be-6a5b-4d6b-9ee0-0de7476e01bc",
   "metadata": {},
   "source": [
    "<br>\n",
    "\n",
    "**Encoding note:<br>Error on server** <br>\n",
    "The Server indicated one should decode as per: Content-Type: text/html; charset=iso-8859-1. However, one line of the html uses<br> \n",
    "\\x96 which isn't defined in iso-8859-1. Therefore the similar decoding standard cp1252 will be  used. This standard is very similar but<br>\n",
    "includes \\x96."
   ]
  },
  {
   "cell_type": "code",
   "execution_count": 3,
   "id": "75911ea5-4d99-4769-8477-b059781ee681",
   "metadata": {},
   "outputs": [],
   "source": [
    "# Specify encoding method \n",
    "resp.encoding = 'cp1252'\n",
    "\n",
    "# Create a file path for the original data.\n",
    "html_path = 'data/cao_2021_raw_data.html'\n",
    "\n",
    "# Save original html file\n",
    "with open(html_path, 'w') as f:\n",
    "    f.write(resp.text)"
   ]
  },
  {
   "cell_type": "code",
   "execution_count": 4,
   "id": "47e52d97-c8fd-42c6-b741-134abd25c554",
   "metadata": {},
   "outputs": [
    {
     "name": "stdout",
     "output_type": "stream",
     "text": [
      "Total number of lines is lines is 949.\n",
      "This was manually verified against\"cao_2021_raw_data.html.\n"
     ]
    }
   ],
   "source": [
    "\n",
    "def scrape_html_from_website(path, regex):\n",
    "    \n",
    "    num_lines = 0                                       # Keep track of courses counted in loop\n",
    "    with open(path, 'w') as f:                          # Open the csv file for writing.          \n",
    "        for line in resp.iter_lines():                      # Loop through lines of the response \n",
    "            dline = line.decode('cp1252')                       # decode the line \n",
    "            if regex.fullmatch(dline):                          # Match only the lines representing courses.       \n",
    "                num_lines = num_lines + 1                           # Add one to the lines counter if match occured      \n",
    "                dline_adj = re.sub(\" \", \"  \", dline, count = 1)     # Substitute first space character with double space     \n",
    "                linesplit = re.split('   +', dline_adj)             # Split the line on three or more spaces.  \n",
    "                f.write(','.join(linesplit) + '\\n')                 # Rejoin the substrings with commas in between.  \n",
    "                \n",
    "    print('Total number of lines is lines is {}.\\nThis was manually verified against\\\n",
    "\"cao_2021_raw_data.html.'.format(num_lines))  \n",
    "    \n",
    "# Compile the regular expression for matching lines\n",
    "    # ([A-Z]{2}[0-9]{3}) matches A-Z x2 characters, 0-9  x3 characters\n",
    "    # (.*) Matches any single character except newline zero or more times \n",
    "re_course = re.compile(r'([A-Z]{2}[0-9]{3})(.*)')  \n",
    "\n",
    "# write parsed data to csv file\n",
    "write_path = 'data/cao_2021_final_data.csv'         \n",
    "scrape_html_from_website(write_path, re_course)"
   ]
  },
  {
   "cell_type": "markdown",
   "id": "ef6c7485-a78d-4a9e-9a28-7cbe9c3777d2",
   "metadata": {},
   "source": [
    "### 2020 [link](http://www2.cao.ie/points/CAOPointsCharts2020.xlsx)\n",
    "***"
   ]
  },
  {
   "cell_type": "code",
   "execution_count": 5,
   "id": "874a2c95-7733-49fa-9e12-09fdc9e79461",
   "metadata": {},
   "outputs": [],
   "source": [
    "url2020 = 'http://www2.cao.ie/points/CAOPointsCharts2020.xlsx'\n",
    "\n",
    "# request url and write data to disc\n",
    "resp = rq.get(url2020)                  \n",
    "\n",
    "# open file for writing in binary mode\n",
    "output = open('data/cao_2020_raw_data.xlsx', 'wb')    \n",
    "output.write(resp.content)\n",
    "output.close()"
   ]
  },
  {
   "cell_type": "code",
   "execution_count": 6,
   "id": "a0e35682-e857-4a63-be1e-74a1312969ee",
   "metadata": {},
   "outputs": [],
   "source": [
    "def data_handler_2020(url):       \n",
    "    df = pd.read_excel(url, skiprows = 10)               # read excel & skip first 10 rows (irrelevant)\n",
    "    df = df.iloc[: , :-8]                                # drop last 8 columns              \n",
    "    return df\n",
    "\n",
    "df_2020 = data_handler_2020(url2020)\n",
    "\n",
    "# Save dataframe to disk.\n",
    "write_path = 'data/cao_2020_final_data.csv'\n",
    "df_2020.to_csv(write_path)"
   ]
  },
  {
   "cell_type": "code",
   "execution_count": 7,
   "id": "28a0f8d3-306a-4de5-954f-f40e6688518e",
   "metadata": {},
   "outputs": [
    {
     "name": "stdout",
     "output_type": "stream",
     "text": [
      "CATEGORY (i.e.ISCED description)                                                Arts\n",
      "COURSE TITLE                        Popular Music: Drums at CIT Cork School of Music\n",
      "COURSE CODE2                                                                   CR126\n",
      "R1 POINTS                                                                        801\n",
      "R1 Random *                                                                      NaN\n",
      "R2 POINTS                                                                        NaN\n",
      "R2 Random*                                                                       NaN\n",
      "EOS                                                                              801\n",
      "EOS Random *                                                                     NaN\n",
      "EOS Mid-point                                                                    940\n",
      "LEVEL                                                                              8\n",
      "HEI                                                     Cork Institute of Technology\n",
      "Test/Interview #                                                                   #\n",
      "avp                                                                              NaN\n",
      "v                                                                                NaN\n",
      "Name: 189, dtype: object\n",
      "CATEGORY (i.e.ISCED description)          Engineering and engineering trades\n",
      "COURSE TITLE                        Mechanical and Manufacturing Engineering\n",
      "COURSE CODE2                                                           WD230\n",
      "R1 POINTS                                                                253\n",
      "R1 Random *                                                              NaN\n",
      "R2 POINTS                                                                NaN\n",
      "R2 Random*                                                               NaN\n",
      "EOS                                                                      253\n",
      "EOS Random *                                                             NaN\n",
      "EOS Mid-point                                                            369\n",
      "LEVEL                                                                      8\n",
      "HEI                                        Waterford Institute of Technology\n",
      "Test/Interview #                                                         NaN\n",
      "avp                                                                      NaN\n",
      "v                                                                        NaN\n",
      "Name: 1463, dtype: object\n"
     ]
    }
   ],
   "source": [
    "# Spot check a random row.\n",
    "print(df_2020.iloc[189])\n",
    "\n",
    "# Spot check last row.\n",
    "print(df_2020.iloc[-1])"
   ]
  },
  {
   "cell_type": "markdown",
   "id": "9950f85a-1502-4565-bf8e-36abd02e8d5e",
   "metadata": {},
   "source": [
    "### 2019"
   ]
  },
  {
   "cell_type": "code",
   "execution_count": 8,
   "id": "841d0678-0374-4f2a-bf20-2bdc51d2ae2c",
   "metadata": {},
   "outputs": [],
   "source": [
    "import urllib3\n",
    "import pdfplumber\n",
    "import io\n",
    "\n",
    "\n",
    "def scrape_pdf_from_website(url):\n",
    "    http = urllib3.PoolManager()                                   # instansiate pool manager object for sending requests\n",
    "    temp_binary = io.BytesIO()                                     # create instance for storing binary data\n",
    "    temp_binary.write(http.request(\"GET\", url).data)               # request url data and write to temp_binary storage\n",
    "    \n",
    "    data_final = ''  \n",
    "    with pdfplumber.open(temp_binary) as pdf:                      # open storage object      \n",
    "        for page in pdf.pages:                                         # iterate pages of pdf object\n",
    "            data = page.extract_text()                                 # extract text of page\n",
    "            data_final += data                                         # concatenates text to data_final variable\n",
    "    return data_final\n",
    "\n",
    "url  = 'http://www2.cao.ie/points/lvl8_19.pdf'\n",
    "pdf_text = scrape_pdf_from_website(url)"
   ]
  },
  {
   "cell_type": "code",
   "execution_count": 9,
   "id": "23fe2337-20b8-48d9-a3b4-f1227ee5eedb",
   "metadata": {},
   "outputs": [
    {
     "name": "stdout",
     "output_type": "stream",
     "text": [
      "NB: it was verified as of 26/11/2021 that there were 930 courses exactly in the CAO 2019 points list.\n"
     ]
    }
   ],
   "source": [
    "def data_handler_2019(regex, line_splitter, text):\n",
    "    \n",
    "    df_data = []                                                   # placeholder to add list of rows to\n",
    "    #print(text)\n",
    "    #for char in text:                                         # iterate file chars  \n",
    "    for match in re.finditer(regex, text):                    # iterate matches each line\n",
    "        course_code = match.group()[0:6]                           # isolate course code\n",
    "        rest_of_line =  match.group()[6:]                          # isolate all of line after course code \n",
    "        rest_of_line = re.split(line_splitter ,rest_of_line)           # split lines using passed criteria\n",
    "        df_data.append([course_code] + rest_of_line)\n",
    "                        \n",
    "    df = pd.DataFrame(df_data)                                # convert array to dataframe\n",
    "    return df\n",
    "\n",
    "\n",
    "# regex statement (will isolate all lines starting with course code)\n",
    "regex = re.compile(r'([A-Z]{2}[0-9]{3})(.*)')\n",
    "line_split_conditions = '(#\\d{3}\\* |#\\d{2}\\* |\\d{3}\\* |\\d{2}\\* |\\d{3} |\\d{2} |#\\d{3} |#\\d{2} |# \\+matric|#)'\n",
    "\n",
    "df_2019 = data_handler_2019(regex, line_split_conditions, pdf_text)\n",
    "df_2019.to_csv('data/cao_2019_final.csv')\n",
    "\n",
    "print('NB: it was verified as of 26/11/2021 that there were {} courses exactly in the CAO 2019 points list.'\n",
    "      .format(len(df_2019.index)))\n"
   ]
  },
  {
   "cell_type": "code",
   "execution_count": 10,
   "id": "28977767-cd2d-4a71-a0a1-473e25fc9d1d",
   "metadata": {},
   "outputs": [
    {
     "name": "stdout",
     "output_type": "stream",
     "text": [
      "0        CW708 \n",
      "1    Law - LLB \n",
      "2          298 \n",
      "3           328\n",
      "Name: 50, dtype: object\n",
      "0                                       WD230 \n",
      "1    Mechanical and Manufacturing Engineering \n",
      "2                                         273 \n",
      "3                                          348\n",
      "Name: 929, dtype: object\n"
     ]
    }
   ],
   "source": [
    "# Spot check a random row.\n",
    "print(df_2019.iloc[50])\n",
    "\n",
    "# Spot chcek last row.\n",
    "print(df_2019.iloc[-1])"
   ]
  },
  {
   "cell_type": "code",
   "execution_count": null,
   "id": "584a3364-f7fd-44d8-bcde-59fcf4a389d1",
   "metadata": {},
   "outputs": [],
   "source": []
  }
 ],
 "metadata": {
  "kernelspec": {
   "display_name": "Python 3",
   "language": "python",
   "name": "python3"
  },
  "language_info": {
   "codemirror_mode": {
    "name": "ipython",
    "version": 3
   },
   "file_extension": ".py",
   "mimetype": "text/x-python",
   "name": "python",
   "nbconvert_exporter": "python",
   "pygments_lexer": "ipython3",
   "version": "3.8.8"
  }
 },
 "nbformat": 4,
 "nbformat_minor": 5
}
