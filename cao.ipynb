{
 "cells": [
  {
   "cell_type": "markdown",
   "id": "6372b1f0-bc0b-49ff-959d-0c8bd0ba685d",
   "metadata": {},
   "source": [
    "# CAO Points Analysis\n",
    "## Acquiring the data\n",
    "***"
   ]
  },
  {
   "cell_type": "markdown",
   "id": "2fe84d05-db34-44a1-9f7c-34738276ce52",
   "metadata": {},
   "source": [
    "### 2021 [link](http://www.cao.ie/index.php?page=points&p=2021)"
   ]
  },
  {
   "cell_type": "code",
   "execution_count": 1,
   "id": "be14c9da-91d1-437f-812a-491c391cb23b",
   "metadata": {},
   "outputs": [],
   "source": [
    "# import required libraries\n",
    "import requests as rq             # Convenient HTTP requests.\n",
    "import re                         # Regular expressions.   \n",
    "import pandas as pd               # for manipulating data / making dataframes\n",
    "import numpy as np                # for numerical operations\n",
    "import matplotlib.pyplot as plt             # for plotting\n",
    "import seaborn as sns                       # for plotting\n",
    "\n",
    "# for plot formatting\n",
    "plt.rcParams['font.size'] = 13             \n",
    "sns.set_style(\"darkgrid\", {\"grid.color\": \".6\", \"grid.linestyle\": \":\"})"
   ]
  },
  {
   "cell_type": "code",
   "execution_count": 2,
   "id": "f1a9bf50-9b34-429b-8074-894e3aa91301",
   "metadata": {},
   "outputs": [
    {
     "data": {
      "text/plain": [
       "<Response [200]>"
      ]
     },
     "execution_count": 2,
     "metadata": {},
     "output_type": "execute_result"
    }
   ],
   "source": [
    "# Make a get request to 2021 CAO points URL\n",
    "resp = rq.get('http://www2.cao.ie/points/l8.php')\n",
    "\n",
    "# Check that value = 200 (in which case a connection is made).\n",
    "resp"
   ]
  },
  {
   "cell_type": "markdown",
   "id": "992d01be-6a5b-4d6b-9ee0-0de7476e01bc",
   "metadata": {},
   "source": [
    "<br>\n",
    "\n",
    "**Encoding note:<br>Error on server** <br>\n",
    "The Server indicated one should decode as per: Content-Type: text/html; charset=iso-8859-1. However, one line of the html uses<br> \n",
    "\\x96 which isn't defined in iso-8859-1. Therefore the similar decoding standard cp1252 will be  used. This standard is very similar but<br>\n",
    "includes \\x96."
   ]
  },
  {
   "cell_type": "code",
   "execution_count": 3,
   "id": "75911ea5-4d99-4769-8477-b059781ee681",
   "metadata": {},
   "outputs": [],
   "source": [
    "# Specify encoding method \n",
    "resp.encoding = 'cp1252'\n",
    "\n",
    "# Create a file path for the original data.\n",
    "html_path = 'data/cao_2021_raw_data.html'\n",
    "\n",
    "# Save original html file\n",
    "with open(html_path, 'w') as f:\n",
    "    f.write(resp.text)"
   ]
  },
  {
   "cell_type": "code",
   "execution_count": 4,
   "id": "47e52d97-c8fd-42c6-b741-134abd25c554",
   "metadata": {},
   "outputs": [
    {
     "name": "stdout",
     "output_type": "stream",
     "text": [
      "Total number of lines is lines is 949.\n",
      "This was manually verified against\"cao_2021_raw_data.html.\n"
     ]
    }
   ],
   "source": [
    "\n",
    "def scrape_html_from_website(path, regex):\n",
    "    \n",
    "    num_lines = 0                                       # Keep track of courses counted in loop\n",
    "    with open(path, 'w') as f:                          # Open the csv file for writing.          \n",
    "        for line in resp.iter_lines():                      # Loop through lines of the response \n",
    "            dline = line.decode('cp1252')                       # decode the line \n",
    "            if regex.fullmatch(dline):                          # Match only the lines representing courses.       \n",
    "                num_lines = num_lines + 1                           # Add one to the lines counter if match occured      \n",
    "                course_code = dline[:5]                             # isolate course code \n",
    "                course_title = dline[7:57].strip()                  # isolate course title         \n",
    "                course_points = re.split(' +', dline[60:])          # split string when on one or more spaces               \n",
    "                \n",
    "                if len(course_points) != 2:                   # if list length not equal to 2         \n",
    "                    course_points = course_points[:2]         # then retain first two elements of list\n",
    "                   \n",
    "                linesplit = [course_code, course_title, course_points[0], course_points[1]]\n",
    "                f.write(','.join(linesplit) + '\\n')\n",
    "    \n",
    "    print('Total number of lines is lines is {}.\\nThis was manually verified against\\\n",
    "\"cao_2021_raw_data.html.'.format(num_lines))  \n",
    "    \n",
    "# Compile the regular expression for matching lines\n",
    "    # ([A-Z]{2}[0-9]{3}) matches A-Z x2 characters, 0-9  x3 characters\n",
    "    # (.*) Matches any single character except newline zero or more times \n",
    "re_course = re.compile(r'([A-Z]{2}[0-9]{3})(.*)')  \n",
    "\n",
    "# write parsed data to csv file\n",
    "write_path = 'data/cao_2021_final_data.csv'         \n",
    "scrape_html_from_website(write_path, re_course)"
   ]
  },
  {
   "cell_type": "markdown",
   "id": "ef6c7485-a78d-4a9e-9a28-7cbe9c3777d2",
   "metadata": {},
   "source": [
    "### 2020 [link](http://www2.cao.ie/points/CAOPointsCharts2020.xlsx)\n",
    "***"
   ]
  },
  {
   "cell_type": "code",
   "execution_count": 5,
   "id": "874a2c95-7733-49fa-9e12-09fdc9e79461",
   "metadata": {},
   "outputs": [],
   "source": [
    "url2020 = 'http://www2.cao.ie/points/CAOPointsCharts2020.xlsx'\n",
    "\n",
    "# request url and write data to disc\n",
    "resp = rq.get(url2020)                  \n",
    "\n",
    "# open file for writing in binary mode\n",
    "output = open('data/cao_2020_raw_data.xlsx', 'wb')    \n",
    "output.write(resp.content)\n",
    "output.close()"
   ]
  },
  {
   "cell_type": "code",
   "execution_count": 6,
   "id": "a0e35682-e857-4a63-be1e-74a1312969ee",
   "metadata": {},
   "outputs": [],
   "source": [
    "def data_handler_2020(url):       \n",
    "    df = pd.read_excel(url, skiprows = 10)               # read excel & skip first 10 rows (irrelevant)\n",
    "    df = df.iloc[: , :-8]                                # drop last 8 columns              \n",
    "    return df\n",
    "\n",
    "df_2020 = data_handler_2020(url2020)\n",
    "\n",
    "# Save dataframe to disk.\n",
    "write_path = 'data/cao_2020_final_data.csv'\n",
    "df_2020.to_csv(write_path, encoding = \"utf-8\")"
   ]
  },
  {
   "cell_type": "code",
   "execution_count": 7,
   "id": "28a0f8d3-306a-4de5-954f-f40e6688518e",
   "metadata": {},
   "outputs": [
    {
     "name": "stdout",
     "output_type": "stream",
     "text": [
      "CATEGORY (i.e.ISCED description)                                                Arts\n",
      "COURSE TITLE                        Popular Music: Drums at CIT Cork School of Music\n",
      "COURSE CODE2                                                                   CR126\n",
      "R1 POINTS                                                                        801\n",
      "R1 Random *                                                                      NaN\n",
      "R2 POINTS                                                                        NaN\n",
      "R2 Random*                                                                       NaN\n",
      "EOS                                                                              801\n",
      "EOS Random *                                                                     NaN\n",
      "EOS Mid-point                                                                    940\n",
      "LEVEL                                                                              8\n",
      "HEI                                                     Cork Institute of Technology\n",
      "Test/Interview #                                                                   #\n",
      "avp                                                                              NaN\n",
      "v                                                                                NaN\n",
      "Name: 189, dtype: object\n",
      "CATEGORY (i.e.ISCED description)          Engineering and engineering trades\n",
      "COURSE TITLE                        Mechanical and Manufacturing Engineering\n",
      "COURSE CODE2                                                           WD230\n",
      "R1 POINTS                                                                253\n",
      "R1 Random *                                                              NaN\n",
      "R2 POINTS                                                                NaN\n",
      "R2 Random*                                                               NaN\n",
      "EOS                                                                      253\n",
      "EOS Random *                                                             NaN\n",
      "EOS Mid-point                                                            369\n",
      "LEVEL                                                                      8\n",
      "HEI                                        Waterford Institute of Technology\n",
      "Test/Interview #                                                         NaN\n",
      "avp                                                                      NaN\n",
      "v                                                                        NaN\n",
      "Name: 1463, dtype: object\n"
     ]
    }
   ],
   "source": [
    "# Spot check a random row.\n",
    "print(df_2020.iloc[189])\n",
    "\n",
    "# Spot check last row.\n",
    "print(df_2020.iloc[-1])"
   ]
  },
  {
   "cell_type": "markdown",
   "id": "9950f85a-1502-4565-bf8e-36abd02e8d5e",
   "metadata": {},
   "source": [
    "### 2019"
   ]
  },
  {
   "cell_type": "code",
   "execution_count": 8,
   "id": "841d0678-0374-4f2a-bf20-2bdc51d2ae2c",
   "metadata": {},
   "outputs": [],
   "source": [
    "import urllib3\n",
    "import pdfplumber\n",
    "import io\n",
    "\n",
    "\n",
    "def scrape_pdf_from_website(url):\n",
    "    http = urllib3.PoolManager()                                   # instansiate pool manager object for sending requests\n",
    "    temp_binary = io.BytesIO()                                     # create instance for storing binary data\n",
    "    temp_binary.write(http.request(\"GET\", url).data)               # request url data and write to temp_binary storage\n",
    "    \n",
    "    data_final = ''  \n",
    "    with pdfplumber.open(temp_binary) as pdf:                      # open storage object      \n",
    "        for page in pdf.pages:                                         # iterate pages of pdf object\n",
    "            data = page.extract_text()                                 # extract text of page\n",
    "            data_final += data                                         # concatenates text to data_final variable\n",
    "    return data_final\n",
    "\n",
    "url  = 'http://www2.cao.ie/points/lvl8_19.pdf'\n",
    "pdf_text = scrape_pdf_from_website(url)"
   ]
  },
  {
   "cell_type": "code",
   "execution_count": 9,
   "id": "23fe2337-20b8-48d9-a3b4-f1227ee5eedb",
   "metadata": {},
   "outputs": [
    {
     "name": "stdout",
     "output_type": "stream",
     "text": [
      "NB: it was verified as of 26/11/2021 that there were 930 courses exactly in the CAO 2019 points list.\n"
     ]
    }
   ],
   "source": [
    "def data_handler_2019(regex, line_splitter, text):\n",
    "    \n",
    "    df_data = []                                                   # placeholder to add list of rows to\n",
    "    #print(text)\n",
    "    #for char in text:                                         # iterate file chars  \n",
    "    for match in re.finditer(regex, text):                    # iterate matches each line\n",
    "        course_code = match.group()[0:6]                           # isolate course code\n",
    "        rest_of_line =  match.group()[6:]                          # isolate all of line after course code \n",
    "        rest_of_line = re.split(line_splitter ,rest_of_line)           # split lines using passed criteria\n",
    "        df_data.append([course_code] + rest_of_line)\n",
    "                        \n",
    "    df = pd.DataFrame(df_data)                                # convert array to dataframe\n",
    "    return df\n",
    "\n",
    "\n",
    "# regex statement (will isolate all lines starting with course code)\n",
    "regex = re.compile(r'([A-Z]{2}[0-9]{3})(.*)')\n",
    "line_split_conditions = '(#\\d{3}\\* |#\\d{2}\\* |\\d{3}\\* |\\d{2}\\* |\\d{3} |\\d{2} |#\\d{3} |#\\d{2} |# \\+matric|#)'\n",
    "\n",
    "df_2019 = data_handler_2019(regex, line_split_conditions, pdf_text)\n",
    "df_2019.to_csv('data/cao_2019_final.csv')\n",
    "\n",
    "print('NB: it was verified as of 26/11/2021 that there were {} courses exactly in the CAO 2019 points list.'\n",
    "      .format(len(df_2019.index)))\n"
   ]
  },
  {
   "cell_type": "code",
   "execution_count": 10,
   "id": "28977767-cd2d-4a71-a0a1-473e25fc9d1d",
   "metadata": {},
   "outputs": [
    {
     "name": "stdout",
     "output_type": "stream",
     "text": [
      "0        CW708 \n",
      "1    Law - LLB \n",
      "2          298 \n",
      "3           328\n",
      "Name: 50, dtype: object\n",
      "0                                       WD230 \n",
      "1    Mechanical and Manufacturing Engineering \n",
      "2                                         273 \n",
      "3                                          348\n",
      "Name: 929, dtype: object\n"
     ]
    }
   ],
   "source": [
    "# Spot check a random row.\n",
    "print(df_2019.iloc[50])\n",
    "\n",
    "# Spot chcek last row.\n",
    "print(df_2019.iloc[-1])"
   ]
  },
  {
   "cell_type": "markdown",
   "id": "57dd9f2a-17bc-4185-ab1c-03995bd2a048",
   "metadata": {},
   "source": [
    "<br>\n",
    "\n",
    "## Joining the data\n",
    "***"
   ]
  },
  {
   "cell_type": "markdown",
   "id": "19904160-9682-47d7-9cf3-ca65404463cc",
   "metadata": {},
   "source": [
    "### Get unique course codes"
   ]
  },
  {
   "cell_type": "code",
   "execution_count": 11,
   "id": "56e7edee-96d9-4c41-885f-3dff9c8360e6",
   "metadata": {},
   "outputs": [],
   "source": [
    "# read in 2021 data from csv and convert to dataframe\n",
    "df_2021 =  pd.read_csv('data/cao_2021_final_data.csv', encoding ='cp1252', header = None)"
   ]
  },
  {
   "cell_type": "code",
   "execution_count": 12,
   "id": "07963bf1-53f3-4542-a59a-4ee128a8a391",
   "metadata": {},
   "outputs": [],
   "source": [
    "# isolate wanted cols from 2020 data and then rename them\n",
    "df_2020 = df_2020[['COURSE CODE2', 'COURSE TITLE', 'CATEGORY (i.e.ISCED description)', 'HEI', 'R1 POINTS', 'R2 POINTS','R1 Random *', 'R2 Random*', 'Test/Interview #']]\n",
    "df_2020.columns = ['code', 'title', 'category', 'institution', 'points_r1_2020', 'points_r2_2020', '*r1_2020', '*r2_2020', '#Test/Interview2020']    \n",
    "df_2021.columns = ['code', 'title', 'points_r1_2021', 'points_r2_2021']  \n",
    "df_2019.columns = ['code', 'title', 'points_r1_2019', 'points_r2_2019'] \n",
    "\n",
    "# remove trailing / leading spaces on code col of all dfs\n",
    "df_2021['code'] = df_2021['code'].str.strip() \n",
    "df_2020['code'] = df_2020['code'].str.strip()\n",
    "df_2019['code'] = df_2019['code'].str.strip() "
   ]
  },
  {
   "cell_type": "code",
   "execution_count": 13,
   "id": "49a83641-fc5a-4222-8646-6c27a0f6c368",
   "metadata": {},
   "outputs": [],
   "source": [
    "# isolate code and title cols (first two cols) accross all datframes\n",
    "courses_2019 = df_2019[['code', 'title']]\n",
    "courses_2020 = df_2020[['code', 'title']]              \n",
    "courses_2021 = df_2021[['code', 'title']]"
   ]
  },
  {
   "cell_type": "code",
   "execution_count": 14,
   "id": "4fddec80-212c-4fd3-9628-4555395be904",
   "metadata": {},
   "outputs": [
    {
     "name": "stdout",
     "output_type": "stream",
     "text": [
      "Shapes:\n",
      "courses_2019 = (930, 2)\n",
      "courses_2020 = (1464, 2)\n",
      "courses_2021 = (949, 2)\n",
      "all_courses  = (3343, 2)\n"
     ]
    }
   ],
   "source": [
    "# append the three dataframes and sort code alphabetically\n",
    "all_courses = pd.concat([courses_2021, courses_2020, courses_2019], ignore_index = True)\n",
    "all_courses.sort_values('code')\n",
    "\n",
    "print('Shapes:\\ncourses_2019 = {}\\ncourses_2020 = {}\\ncourses_2021 = {}\\nall_courses  = {}'\n",
    "      .format(courses_2019.shape,courses_2020.shape,courses_2021.shape, all_courses.shape))"
   ]
  },
  {
   "cell_type": "code",
   "execution_count": 15,
   "id": "9356b7dc-c44f-44af-8a7e-c8aaebe4f7ba",
   "metadata": {},
   "outputs": [
    {
     "data": {
      "text/plain": [
       "code     1692\n",
       "title    1692\n",
       "dtype: int64"
      ]
     },
     "execution_count": 15,
     "metadata": {},
     "output_type": "execute_result"
    }
   ],
   "source": [
    "# return a count on boolean check for all code rows that are duplicates\n",
    "duplicated_code_rows = all_courses[all_courses.duplicated(subset = ['code'])].count()\n",
    "duplicated_code_rows\n"
   ]
  },
  {
   "cell_type": "code",
   "execution_count": 16,
   "id": "81f23480-6e9e-4f11-88ae-543fe838a04f",
   "metadata": {},
   "outputs": [
    {
     "data": {
      "text/plain": [
       "(1651, 2)"
      ]
     },
     "execution_count": 16,
     "metadata": {},
     "output_type": "execute_result"
    }
   ],
   "source": [
    "\n",
    "# Returns a data frame with duplciates removed (based only on code)\n",
    "# i.e row count = concat (2906) - duplicated () = unique (2010)\n",
    "all_courses.drop_duplicates(subset = ['code'], inplace = True, ignore_index = True)\n",
    "all_courses.shape"
   ]
  },
  {
   "cell_type": "markdown",
   "id": "171ca7aa-c49e-42e0-ba0f-b0f4d950ad55",
   "metadata": {},
   "source": [
    "### Join Points Data\n",
    "***"
   ]
  },
  {
   "cell_type": "code",
   "execution_count": 17,
   "id": "5cf95fea-e1f8-419e-87d0-5760d95f059a",
   "metadata": {},
   "outputs": [],
   "source": [
    "# join cols from 3x years while omitting the first two col names (code & title)\n",
    "# adopted from: https://stackoverflow.com/questions/23668427/pandas-three-way-joining-multiple-dataframes-on-columns\n",
    "\n",
    "# declarea wanted df and their cols in a list\n",
    "dfs = [all_courses, \n",
    "       df_2019[['code', 'points_r1_2019', 'points_r2_2019']],\n",
    "       df_2020[['code', 'points_r1_2020', 'points_r2_2020','*r1_2020', '*r2_2020', '#Test/Interview2020']], \n",
    "       df_2021[['code', 'points_r1_2021', 'points_r2_2021']]\n",
    "      ]"
   ]
  },
  {
   "cell_type": "code",
   "execution_count": 18,
   "id": "d6f1b284-6bb2-4f66-84a6-08e58500a7cc",
   "metadata": {},
   "outputs": [
    {
     "data": {
      "text/html": [
       "<div>\n",
       "<style scoped>\n",
       "    .dataframe tbody tr th:only-of-type {\n",
       "        vertical-align: middle;\n",
       "    }\n",
       "\n",
       "    .dataframe tbody tr th {\n",
       "        vertical-align: top;\n",
       "    }\n",
       "\n",
       "    .dataframe thead th {\n",
       "        text-align: right;\n",
       "    }\n",
       "</style>\n",
       "<table border=\"1\" class=\"dataframe\">\n",
       "  <thead>\n",
       "    <tr style=\"text-align: right;\">\n",
       "      <th></th>\n",
       "      <th>title</th>\n",
       "      <th>points_r1_2019</th>\n",
       "      <th>points_r2_2019</th>\n",
       "      <th>points_r1_2020</th>\n",
       "      <th>points_r2_2020</th>\n",
       "      <th>*r1_2020</th>\n",
       "      <th>*r2_2020</th>\n",
       "      <th>#Test/Interview2020</th>\n",
       "      <th>points_r1_2021</th>\n",
       "      <th>points_r2_2021</th>\n",
       "    </tr>\n",
       "    <tr>\n",
       "      <th>code</th>\n",
       "      <th></th>\n",
       "      <th></th>\n",
       "      <th></th>\n",
       "      <th></th>\n",
       "      <th></th>\n",
       "      <th></th>\n",
       "      <th></th>\n",
       "      <th></th>\n",
       "      <th></th>\n",
       "      <th></th>\n",
       "    </tr>\n",
       "  </thead>\n",
       "  <tbody>\n",
       "    <tr>\n",
       "      <th>AL801</th>\n",
       "      <td>Software Design for Virtual Reality and Gaming</td>\n",
       "      <td>304</td>\n",
       "      <td>328</td>\n",
       "      <td>303</td>\n",
       "      <td>NaN</td>\n",
       "      <td>NaN</td>\n",
       "      <td>NaN</td>\n",
       "      <td>NaN</td>\n",
       "      <td>300</td>\n",
       "      <td>NaN</td>\n",
       "    </tr>\n",
       "    <tr>\n",
       "      <th>AL802</th>\n",
       "      <td>Software Design in Artificial Intelligence for...</td>\n",
       "      <td>301</td>\n",
       "      <td>306</td>\n",
       "      <td>332</td>\n",
       "      <td>NaN</td>\n",
       "      <td>NaN</td>\n",
       "      <td>NaN</td>\n",
       "      <td>NaN</td>\n",
       "      <td>313</td>\n",
       "      <td>NaN</td>\n",
       "    </tr>\n",
       "    <tr>\n",
       "      <th>AL803</th>\n",
       "      <td>Software Design for Mobile Apps and Connected ...</td>\n",
       "      <td>309</td>\n",
       "      <td>337</td>\n",
       "      <td>337</td>\n",
       "      <td>NaN</td>\n",
       "      <td>NaN</td>\n",
       "      <td>NaN</td>\n",
       "      <td>NaN</td>\n",
       "      <td>350</td>\n",
       "      <td>NaN</td>\n",
       "    </tr>\n",
       "    <tr>\n",
       "      <th>AL805</th>\n",
       "      <td>Computer Engineering for Network Infrastructure</td>\n",
       "      <td>329</td>\n",
       "      <td>442</td>\n",
       "      <td>333</td>\n",
       "      <td>NaN</td>\n",
       "      <td>NaN</td>\n",
       "      <td>NaN</td>\n",
       "      <td>NaN</td>\n",
       "      <td>321</td>\n",
       "      <td>NaN</td>\n",
       "    </tr>\n",
       "    <tr>\n",
       "      <th>AL810</th>\n",
       "      <td>Quantity Surveying</td>\n",
       "      <td>307</td>\n",
       "      <td>349</td>\n",
       "      <td>319</td>\n",
       "      <td>NaN</td>\n",
       "      <td>NaN</td>\n",
       "      <td>NaN</td>\n",
       "      <td>NaN</td>\n",
       "      <td>328</td>\n",
       "      <td>NaN</td>\n",
       "    </tr>\n",
       "  </tbody>\n",
       "</table>\n",
       "</div>"
      ],
      "text/plain": [
       "                                                   title points_r1_2019  \\\n",
       "code                                                                      \n",
       "AL801     Software Design for Virtual Reality and Gaming           304    \n",
       "AL802  Software Design in Artificial Intelligence for...           301    \n",
       "AL803  Software Design for Mobile Apps and Connected ...           309    \n",
       "AL805    Computer Engineering for Network Infrastructure           329    \n",
       "AL810                                 Quantity Surveying           307    \n",
       "\n",
       "      points_r2_2019 points_r1_2020 points_r2_2020 *r1_2020 *r2_2020  \\\n",
       "code                                                                   \n",
       "AL801            328            303            NaN      NaN      NaN   \n",
       "AL802            306            332            NaN      NaN      NaN   \n",
       "AL803            337            337            NaN      NaN      NaN   \n",
       "AL805            442            333            NaN      NaN      NaN   \n",
       "AL810            349            319            NaN      NaN      NaN   \n",
       "\n",
       "      #Test/Interview2020 points_r1_2021 points_r2_2021  \n",
       "code                                                     \n",
       "AL801                 NaN            300            NaN  \n",
       "AL802                 NaN            313            NaN  \n",
       "AL803                 NaN            350            NaN  \n",
       "AL805                 NaN            321            NaN  \n",
       "AL810                 NaN            328            NaN  "
      ]
     },
     "execution_count": 18,
     "metadata": {},
     "output_type": "execute_result"
    }
   ],
   "source": [
    "# set index val for each df\n",
    "dfs = [df.set_index('code') for df in dfs]      \n",
    "\n",
    "# join all dfs after first to the first df\n",
    "all_courses = dfs[0].join(dfs[1:])\n",
    "all_courses.head(5)"
   ]
  },
  {
   "cell_type": "markdown",
   "id": "e19ec099-2a2d-418a-a8ac-71405a61488b",
   "metadata": {},
   "source": [
    "### Join Institute Data\n",
    "***"
   ]
  },
  {
   "cell_type": "code",
   "execution_count": 19,
   "id": "82c22b6a-66fa-4711-868f-1e5016f9b5b7",
   "metadata": {},
   "outputs": [
    {
     "name": "stdout",
     "output_type": "stream",
     "text": [
      "(36, 1)\n"
     ]
    },
    {
     "data": {
      "text/html": [
       "<div>\n",
       "<style scoped>\n",
       "    .dataframe tbody tr th:only-of-type {\n",
       "        vertical-align: middle;\n",
       "    }\n",
       "\n",
       "    .dataframe tbody tr th {\n",
       "        vertical-align: top;\n",
       "    }\n",
       "\n",
       "    .dataframe thead th {\n",
       "        text-align: right;\n",
       "    }\n",
       "</style>\n",
       "<table border=\"1\" class=\"dataframe\">\n",
       "  <thead>\n",
       "    <tr style=\"text-align: right;\">\n",
       "      <th></th>\n",
       "      <th>institution</th>\n",
       "    </tr>\n",
       "    <tr>\n",
       "      <th>institution_letters</th>\n",
       "      <th></th>\n",
       "    </tr>\n",
       "  </thead>\n",
       "  <tbody>\n",
       "    <tr>\n",
       "      <th>AC</th>\n",
       "      <td>American College</td>\n",
       "    </tr>\n",
       "    <tr>\n",
       "      <th>AD</th>\n",
       "      <td>National College of Art and Design</td>\n",
       "    </tr>\n",
       "    <tr>\n",
       "      <th>AL</th>\n",
       "      <td>Athlone Institute of Technology</td>\n",
       "    </tr>\n",
       "    <tr>\n",
       "      <th>AS</th>\n",
       "      <td>St. Angela`s College</td>\n",
       "    </tr>\n",
       "    <tr>\n",
       "      <th>CI</th>\n",
       "      <td>Irish College of Humanities &amp; Applied Sciences</td>\n",
       "    </tr>\n",
       "  </tbody>\n",
       "</table>\n",
       "</div>"
      ],
      "text/plain": [
       "                                                        institution\n",
       "institution_letters                                                \n",
       "AC                                                 American College\n",
       "AD                               National College of Art and Design\n",
       "AL                                  Athlone Institute of Technology\n",
       "AS                                             St. Angela`s College\n",
       "CI                   Irish College of Humanities & Applied Sciences"
      ]
     },
     "execution_count": 19,
     "metadata": {},
     "output_type": "execute_result"
    }
   ],
   "source": [
    "# reset 2021 df index and define its code & institution cols  as new df \n",
    "institution_df = df_2020.reset_index()[['code', 'institution']]     \n",
    "\n",
    "# make new col with code letters, will be used to join institutes\n",
    "institution_df['institution_letters'] = institution_df['code'].str[:2]   \n",
    "\n",
    "# drop records that are duplicated (based on institution)\n",
    "institution_df.drop_duplicates(subset ='institution_letters', keep = \"last\", inplace = True)\n",
    "\n",
    "# drop code col\n",
    "institution_df.drop('code', axis = 1, inplace = True)\n",
    "institution_df.set_index('institution_letters', inplace = True)\n",
    "\n",
    "print(institution_df.shape)\n",
    "institution_df.head(5)"
   ]
  },
  {
   "cell_type": "code",
   "execution_count": 20,
   "id": "fe6180b6-7f62-4c29-970f-932ca9dd0912",
   "metadata": {},
   "outputs": [
    {
     "name": "stdout",
     "output_type": "stream",
     "text": [
      "(40, 1)\n"
     ]
    },
    {
     "data": {
      "text/html": [
       "<div>\n",
       "<style scoped>\n",
       "    .dataframe tbody tr th:only-of-type {\n",
       "        vertical-align: middle;\n",
       "    }\n",
       "\n",
       "    .dataframe tbody tr th {\n",
       "        vertical-align: top;\n",
       "    }\n",
       "\n",
       "    .dataframe thead th {\n",
       "        text-align: right;\n",
       "    }\n",
       "</style>\n",
       "<table border=\"1\" class=\"dataframe\">\n",
       "  <thead>\n",
       "    <tr style=\"text-align: right;\">\n",
       "      <th></th>\n",
       "      <th>institution</th>\n",
       "    </tr>\n",
       "    <tr>\n",
       "      <th>institution_letters</th>\n",
       "      <th></th>\n",
       "    </tr>\n",
       "  </thead>\n",
       "  <tbody>\n",
       "    <tr>\n",
       "      <th>WD</th>\n",
       "      <td>Waterford Institute of Technology</td>\n",
       "    </tr>\n",
       "    <tr>\n",
       "      <th>BN</th>\n",
       "      <td>Technological University Dublin Blanchardstown...</td>\n",
       "    </tr>\n",
       "    <tr>\n",
       "      <th>BY</th>\n",
       "      <td>IBAT College Dublin</td>\n",
       "    </tr>\n",
       "    <tr>\n",
       "      <th>DT</th>\n",
       "      <td>Technological University Dublin City Campus</td>\n",
       "    </tr>\n",
       "    <tr>\n",
       "      <th>TA</th>\n",
       "      <td>Technological University Dublin Tallaght Campus</td>\n",
       "    </tr>\n",
       "  </tbody>\n",
       "</table>\n",
       "</div>"
      ],
      "text/plain": [
       "                                                           institution\n",
       "institution_letters                                                   \n",
       "WD                                   Waterford Institute of Technology\n",
       "BN                   Technological University Dublin Blanchardstown...\n",
       "BY                                                IBAT College Dublin \n",
       "DT                         Technological University Dublin City Campus\n",
       "TA                     Technological University Dublin Tallaght Campus"
      ]
     },
     "execution_count": 20,
     "metadata": {},
     "output_type": "execute_result"
    }
   ],
   "source": [
    "# make temp df to allow concat of missing institutions (this was manually checked on 01 Dec 2021)\n",
    "# declare new row dict\n",
    "new_rows = {'institution_letters': ['BN', 'BY', 'DT', 'TA'], \n",
    "            'institution': ['Technological University Dublin Blanchardstown Campus',\n",
    "                            'IBAT College Dublin ',\n",
    "                            'Technological University Dublin City Campus',\n",
    "                            'Technological University Dublin Tallaght Campus']}\n",
    "# convert dict to df\n",
    "temp_df = pd.DataFrame.from_dict(new_rows).set_index('institution_letters')\n",
    "\n",
    "# concat  temp df to institution df\n",
    "institution_df = pd.concat([institution_df, temp_df])\n",
    "\n",
    "print(institution_df.shape)\n",
    "institution_df.tail(5)\n"
   ]
  },
  {
   "cell_type": "code",
   "execution_count": 21,
   "id": "6f349911-6b45-499c-bbf8-8cb59939c2c9",
   "metadata": {},
   "outputs": [
    {
     "data": {
      "text/html": [
       "<div>\n",
       "<style scoped>\n",
       "    .dataframe tbody tr th:only-of-type {\n",
       "        vertical-align: middle;\n",
       "    }\n",
       "\n",
       "    .dataframe tbody tr th {\n",
       "        vertical-align: top;\n",
       "    }\n",
       "\n",
       "    .dataframe thead th {\n",
       "        text-align: right;\n",
       "    }\n",
       "</style>\n",
       "<table border=\"1\" class=\"dataframe\">\n",
       "  <thead>\n",
       "    <tr style=\"text-align: right;\">\n",
       "      <th></th>\n",
       "      <th>code</th>\n",
       "      <th>title</th>\n",
       "      <th>points_r1_2019</th>\n",
       "      <th>points_r2_2019</th>\n",
       "      <th>points_r1_2020</th>\n",
       "      <th>points_r2_2020</th>\n",
       "      <th>*r1_2020</th>\n",
       "      <th>*r2_2020</th>\n",
       "      <th>#Test/Interview2020</th>\n",
       "      <th>points_r1_2021</th>\n",
       "      <th>points_r2_2021</th>\n",
       "      <th>institution</th>\n",
       "    </tr>\n",
       "    <tr>\n",
       "      <th>institution_letters</th>\n",
       "      <th></th>\n",
       "      <th></th>\n",
       "      <th></th>\n",
       "      <th></th>\n",
       "      <th></th>\n",
       "      <th></th>\n",
       "      <th></th>\n",
       "      <th></th>\n",
       "      <th></th>\n",
       "      <th></th>\n",
       "      <th></th>\n",
       "      <th></th>\n",
       "    </tr>\n",
       "  </thead>\n",
       "  <tbody>\n",
       "    <tr>\n",
       "      <th>AC</th>\n",
       "      <td>AC120</td>\n",
       "      <td>International Business</td>\n",
       "      <td>234</td>\n",
       "      <td>269</td>\n",
       "      <td>209</td>\n",
       "      <td>NaN</td>\n",
       "      <td>NaN</td>\n",
       "      <td>NaN</td>\n",
       "      <td>NaN</td>\n",
       "      <td>294</td>\n",
       "      <td>294</td>\n",
       "      <td>American College</td>\n",
       "    </tr>\n",
       "    <tr>\n",
       "      <th>AC</th>\n",
       "      <td>AC137</td>\n",
       "      <td>Liberal Arts</td>\n",
       "      <td>252</td>\n",
       "      <td>275</td>\n",
       "      <td>252</td>\n",
       "      <td>NaN</td>\n",
       "      <td>NaN</td>\n",
       "      <td>NaN</td>\n",
       "      <td>NaN</td>\n",
       "      <td>271</td>\n",
       "      <td>270</td>\n",
       "      <td>American College</td>\n",
       "    </tr>\n",
       "    <tr>\n",
       "      <th>AD</th>\n",
       "      <td>AD101</td>\n",
       "      <td>First Year Art and Design (Common Entry portfo...</td>\n",
       "      <td># +matric</td>\n",
       "      <td>550</td>\n",
       "      <td>#+matric</td>\n",
       "      <td>NaN</td>\n",
       "      <td>NaN</td>\n",
       "      <td>NaN</td>\n",
       "      <td>#</td>\n",
       "      <td>#554</td>\n",
       "      <td>NaN</td>\n",
       "      <td>National College of Art and Design</td>\n",
       "    </tr>\n",
       "    <tr>\n",
       "      <th>AD</th>\n",
       "      <td>AD102</td>\n",
       "      <td>Graphic Design and Moving Image Design (portfo...</td>\n",
       "      <td># +matric</td>\n",
       "      <td>635</td>\n",
       "      <td>#+matric</td>\n",
       "      <td>NaN</td>\n",
       "      <td>NaN</td>\n",
       "      <td>NaN</td>\n",
       "      <td>#</td>\n",
       "      <td>#538</td>\n",
       "      <td>NaN</td>\n",
       "      <td>National College of Art and Design</td>\n",
       "    </tr>\n",
       "    <tr>\n",
       "      <th>AD</th>\n",
       "      <td>AD103</td>\n",
       "      <td>Textile and Surface Design and Jewellery and O...</td>\n",
       "      <td># +matric</td>\n",
       "      <td>545</td>\n",
       "      <td>#+matric</td>\n",
       "      <td>NaN</td>\n",
       "      <td>NaN</td>\n",
       "      <td>NaN</td>\n",
       "      <td>#</td>\n",
       "      <td>#505</td>\n",
       "      <td>NaN</td>\n",
       "      <td>National College of Art and Design</td>\n",
       "    </tr>\n",
       "  </tbody>\n",
       "</table>\n",
       "</div>"
      ],
      "text/plain": [
       "                      code                                              title  \\\n",
       "institution_letters                                                             \n",
       "AC                   AC120                             International Business   \n",
       "AC                   AC137                                       Liberal Arts   \n",
       "AD                   AD101  First Year Art and Design (Common Entry portfo...   \n",
       "AD                   AD102  Graphic Design and Moving Image Design (portfo...   \n",
       "AD                   AD103  Textile and Surface Design and Jewellery and O...   \n",
       "\n",
       "                    points_r1_2019 points_r2_2019 points_r1_2020  \\\n",
       "institution_letters                                                \n",
       "AC                            234             269            209   \n",
       "AC                            252             275            252   \n",
       "AD                       # +matric            550       #+matric   \n",
       "AD                       # +matric            635       #+matric   \n",
       "AD                       # +matric            545       #+matric   \n",
       "\n",
       "                    points_r2_2020 *r1_2020 *r2_2020 #Test/Interview2020  \\\n",
       "institution_letters                                                        \n",
       "AC                             NaN      NaN      NaN                 NaN   \n",
       "AC                             NaN      NaN      NaN                 NaN   \n",
       "AD                             NaN      NaN      NaN                   #   \n",
       "AD                             NaN      NaN      NaN                   #   \n",
       "AD                             NaN      NaN      NaN                   #   \n",
       "\n",
       "                    points_r1_2021 points_r2_2021  \\\n",
       "institution_letters                                 \n",
       "AC                             294            294   \n",
       "AC                             271            270   \n",
       "AD                            #554            NaN   \n",
       "AD                            #538            NaN   \n",
       "AD                            #505            NaN   \n",
       "\n",
       "                                            institution  \n",
       "institution_letters                                      \n",
       "AC                                     American College  \n",
       "AC                                     American College  \n",
       "AD                   National College of Art and Design  \n",
       "AD                   National College of Art and Design  \n",
       "AD                   National College of Art and Design  "
      ]
     },
     "execution_count": 21,
     "metadata": {},
     "output_type": "execute_result"
    }
   ],
   "source": [
    "# Use institution_df as a lookup table to populate institures on main df\n",
    "\n",
    "# make new col with code letters for all_courses df\n",
    "all_courses['institution_letters'] = all_courses.index.str[:2]   \n",
    "\n",
    "# reset index and set institution_letters as new index before joining to institution_df\n",
    "all_courses = all_courses.reset_index().set_index('institution_letters').join(institution_df['institution'])\n",
    "all_courses.head(5)"
   ]
  },
  {
   "cell_type": "markdown",
   "id": "c9288b5e-fbf2-4520-a38a-b8dcfc0a654d",
   "metadata": {},
   "source": [
    "### Join Category Data\n",
    "***"
   ]
  },
  {
   "cell_type": "code",
   "execution_count": 22,
   "id": "13cd2bcc-99c9-48fa-a2fe-fade395fa137",
   "metadata": {},
   "outputs": [],
   "source": [
    "# reset 2021 df index and define its code & institution cols  as new df \n",
    "category_df = df_2020[['code', 'category']].set_index('code') "
   ]
  },
  {
   "cell_type": "code",
   "execution_count": 23,
   "id": "0b533e02-deda-4f70-859e-da402f8d312a",
   "metadata": {},
   "outputs": [
    {
     "data": {
      "text/html": [
       "<div>\n",
       "<style scoped>\n",
       "    .dataframe tbody tr th:only-of-type {\n",
       "        vertical-align: middle;\n",
       "    }\n",
       "\n",
       "    .dataframe tbody tr th {\n",
       "        vertical-align: top;\n",
       "    }\n",
       "\n",
       "    .dataframe thead th {\n",
       "        text-align: right;\n",
       "    }\n",
       "</style>\n",
       "<table border=\"1\" class=\"dataframe\">\n",
       "  <thead>\n",
       "    <tr style=\"text-align: right;\">\n",
       "      <th></th>\n",
       "      <th>institution_letters</th>\n",
       "      <th>title</th>\n",
       "      <th>points_r1_2019</th>\n",
       "      <th>points_r2_2019</th>\n",
       "      <th>points_r1_2020</th>\n",
       "      <th>points_r2_2020</th>\n",
       "      <th>*r1_2020</th>\n",
       "      <th>*r2_2020</th>\n",
       "      <th>#Test/Interview2020</th>\n",
       "      <th>points_r1_2021</th>\n",
       "      <th>points_r2_2021</th>\n",
       "      <th>institution</th>\n",
       "      <th>category</th>\n",
       "    </tr>\n",
       "    <tr>\n",
       "      <th>code</th>\n",
       "      <th></th>\n",
       "      <th></th>\n",
       "      <th></th>\n",
       "      <th></th>\n",
       "      <th></th>\n",
       "      <th></th>\n",
       "      <th></th>\n",
       "      <th></th>\n",
       "      <th></th>\n",
       "      <th></th>\n",
       "      <th></th>\n",
       "      <th></th>\n",
       "      <th></th>\n",
       "    </tr>\n",
       "  </thead>\n",
       "  <tbody>\n",
       "    <tr>\n",
       "      <th>AC120</th>\n",
       "      <td>AC</td>\n",
       "      <td>International Business</td>\n",
       "      <td>234</td>\n",
       "      <td>269</td>\n",
       "      <td>209</td>\n",
       "      <td>NaN</td>\n",
       "      <td>NaN</td>\n",
       "      <td>NaN</td>\n",
       "      <td>NaN</td>\n",
       "      <td>294</td>\n",
       "      <td>294</td>\n",
       "      <td>American College</td>\n",
       "      <td>Business and administration</td>\n",
       "    </tr>\n",
       "    <tr>\n",
       "      <th>AC137</th>\n",
       "      <td>AC</td>\n",
       "      <td>Liberal Arts</td>\n",
       "      <td>252</td>\n",
       "      <td>275</td>\n",
       "      <td>252</td>\n",
       "      <td>NaN</td>\n",
       "      <td>NaN</td>\n",
       "      <td>NaN</td>\n",
       "      <td>NaN</td>\n",
       "      <td>271</td>\n",
       "      <td>270</td>\n",
       "      <td>American College</td>\n",
       "      <td>Humanities (except languages)</td>\n",
       "    </tr>\n",
       "    <tr>\n",
       "      <th>AD101</th>\n",
       "      <td>AD</td>\n",
       "      <td>First Year Art and Design (Common Entry portfo...</td>\n",
       "      <td># +matric</td>\n",
       "      <td>550</td>\n",
       "      <td>#+matric</td>\n",
       "      <td>NaN</td>\n",
       "      <td>NaN</td>\n",
       "      <td>NaN</td>\n",
       "      <td>#</td>\n",
       "      <td>#554</td>\n",
       "      <td>NaN</td>\n",
       "      <td>National College of Art and Design</td>\n",
       "      <td>Arts</td>\n",
       "    </tr>\n",
       "    <tr>\n",
       "      <th>AD102</th>\n",
       "      <td>AD</td>\n",
       "      <td>Graphic Design and Moving Image Design (portfo...</td>\n",
       "      <td># +matric</td>\n",
       "      <td>635</td>\n",
       "      <td>#+matric</td>\n",
       "      <td>NaN</td>\n",
       "      <td>NaN</td>\n",
       "      <td>NaN</td>\n",
       "      <td>#</td>\n",
       "      <td>#538</td>\n",
       "      <td>NaN</td>\n",
       "      <td>National College of Art and Design</td>\n",
       "      <td>Arts</td>\n",
       "    </tr>\n",
       "    <tr>\n",
       "      <th>AD103</th>\n",
       "      <td>AD</td>\n",
       "      <td>Textile and Surface Design and Jewellery and O...</td>\n",
       "      <td># +matric</td>\n",
       "      <td>545</td>\n",
       "      <td>#+matric</td>\n",
       "      <td>NaN</td>\n",
       "      <td>NaN</td>\n",
       "      <td>NaN</td>\n",
       "      <td>#</td>\n",
       "      <td>#505</td>\n",
       "      <td>NaN</td>\n",
       "      <td>National College of Art and Design</td>\n",
       "      <td>Arts</td>\n",
       "    </tr>\n",
       "  </tbody>\n",
       "</table>\n",
       "</div>"
      ],
      "text/plain": [
       "      institution_letters                                              title  \\\n",
       "code                                                                           \n",
       "AC120                  AC                             International Business   \n",
       "AC137                  AC                                       Liberal Arts   \n",
       "AD101                  AD  First Year Art and Design (Common Entry portfo...   \n",
       "AD102                  AD  Graphic Design and Moving Image Design (portfo...   \n",
       "AD103                  AD  Textile and Surface Design and Jewellery and O...   \n",
       "\n",
       "      points_r1_2019 points_r2_2019 points_r1_2020 points_r2_2020 *r1_2020  \\\n",
       "code                                                                         \n",
       "AC120           234             269            209            NaN      NaN   \n",
       "AC137           252             275            252            NaN      NaN   \n",
       "AD101      # +matric            550       #+matric            NaN      NaN   \n",
       "AD102      # +matric            635       #+matric            NaN      NaN   \n",
       "AD103      # +matric            545       #+matric            NaN      NaN   \n",
       "\n",
       "      *r2_2020 #Test/Interview2020 points_r1_2021 points_r2_2021  \\\n",
       "code                                                               \n",
       "AC120      NaN                 NaN            294            294   \n",
       "AC137      NaN                 NaN            271            270   \n",
       "AD101      NaN                   #           #554            NaN   \n",
       "AD102      NaN                   #           #538            NaN   \n",
       "AD103      NaN                   #           #505            NaN   \n",
       "\n",
       "                              institution                       category  \n",
       "code                                                                      \n",
       "AC120                    American College    Business and administration  \n",
       "AC137                    American College  Humanities (except languages)  \n",
       "AD101  National College of Art and Design                           Arts  \n",
       "AD102  National College of Art and Design                           Arts  \n",
       "AD103  National College of Art and Design                           Arts  "
      ]
     },
     "execution_count": 23,
     "metadata": {},
     "output_type": "execute_result"
    }
   ],
   "source": [
    "# Use category df as a lookup table to populate categories on main df\n",
    "# reset index and set institution_letters as new index before joining to institution_df\n",
    "all_courses = all_courses.reset_index().set_index('code').join(category_df['category'])\n",
    "all_courses.head(5)"
   ]
  },
  {
   "cell_type": "markdown",
   "id": "723f17f5-7657-47fc-ae96-02c830aac0fe",
   "metadata": {},
   "source": [
    "<br>\n",
    "\n",
    "## Reformatting The Data\n",
    "### Move special characters\n",
    "***"
   ]
  },
  {
   "cell_type": "markdown",
   "id": "fb725e2c-58a7-446e-852d-e4de67e54950",
   "metadata": {},
   "source": [
    "As per the CAO website certain characters / strings are present in the points data to give more information.<br>\n",
    "- Hastag symbol (#) : Course has a Test / Interview / Portfolio / Audition <br>\n",
    "- Asterix symbol (*): Course was not offered to everyone.<br>\n"
   ]
  },
  {
   "cell_type": "code",
   "execution_count": 24,
   "id": "e969104e-6e56-4ddf-add6-5d9615a7a435",
   "metadata": {},
   "outputs": [],
   "source": [
    "# pre check occurances 2019 and 2021 years (as 2020 data will be parsed in same function as 2019)\n",
    "\n",
    "# define cases of character occurances on relevant cols (these will be printed later)\n",
    "# locate choose subset of df then loc where index values are equal to elements in list\n",
    "pre_check_2019 = all_courses[['points_r1_2019', 'points_r2_2019']].loc[all_courses.index.isin(['AS110','DC004', 'GY501'])]\n",
    "pre_check_2020 = all_courses[['*r1_2020', '*r2_2020', '#Test/Interview2020']].loc[all_courses.index.isin(['CK120','AD204', 'DN400'])]\n"
   ]
  },
  {
   "cell_type": "code",
   "execution_count": 25,
   "id": "6c27c69c-29cf-44ff-b072-19d998a2a468",
   "metadata": {},
   "outputs": [],
   "source": [
    "# parse 2019 and 2021 # and * characters into one col\n",
    "def move_special_characters(col_one, col_two):\n",
    "    '''This function accepts two cols, performs regex on each col to return result in array'''\n",
    "    # regex for '*#' case adopted from https://newbedev.com/regex-i-want-this-and-that-and-that-in-any-order\n",
    "        # this checks for any occurance of # or * anywhere in the string\n",
    "    \n",
    "    array = np.where((all_courses[col_one].str.contains('^(?=.*#)(?=.*\\*).*$', na = False) | \n",
    "                      all_courses[col_two].str.contains('^(?=.*#)(?=.*\\*).*$' , na = False)), '#*',                \n",
    "            np.where((all_courses[col_one].str.contains('\\*', na = False) | \n",
    "                      all_courses[col_two].str.contains('\\*', na = False)), '*',\n",
    "            np.where((all_courses[col_one].str.contains('#', na = False) | \n",
    "                      all_courses[col_two].str.contains('#', na = False)), '#', \n",
    "                       'NaN')))   \n",
    "    return array\n",
    "\n",
    "\n",
    "# define variable as result of function call, with 2 cols passsed\n",
    "special_chars_2019_col = move_special_characters('points_r1_2019', 'points_r2_2019')\n",
    "special_chars_2021_col = move_special_characters('points_r1_2021', 'points_r2_2021')\n",
    "\n",
    "# APush returned arrays to a list and add list as new col to df \n",
    "all_courses['special_chars_2019'] = special_chars_2019_col.tolist()\n",
    "all_courses['special_chars_2021'] = special_chars_2021_col.tolist()"
   ]
  },
  {
   "cell_type": "code",
   "execution_count": 26,
   "id": "0848c4b4-030f-4dd8-9ea5-4bcf784e3a4b",
   "metadata": {},
   "outputs": [],
   "source": [
    "# parse 2020 characters into one col                     \n",
    "all_courses['special_chars_2020'] = np.where(((pd.isna(all_courses['*r1_2020']) &\n",
    "                                               pd.isna(all_courses['*r2_2020'])) &   \n",
    "                                               all_courses['#Test/Interview2020'].str.contains('#')), '#',\n",
    "                                             \n",
    "                                    np.where(((pd.isna(all_courses['*r1_2020']) &\n",
    "                                               pd.isna(all_courses['*r2_2020'])) &\n",
    "                                               pd.isna(all_courses['#Test/Interview2020'])), '',\n",
    "                                             \n",
    "                                    np.where(((all_courses['*r1_2020'].str.contains('\\*', na = False) |\n",
    "                                               all_courses['*r2_2020'].str.contains('\\*', na = False)) &\n",
    "                                               all_courses['#Test/Interview2020'].str.contains('#')), '*#',\n",
    "                                             \n",
    "                                    np.where(((all_courses['*r1_2020'].str.contains('\\*', na = False) |\n",
    "                                               all_courses['*r2_2020'].str.contains('\\*', na = False)) &\n",
    "                                               pd.isna(all_courses['#Test/Interview2020'])), '*',\n",
    "                                               'NaN'))))"
   ]
  },
  {
   "cell_type": "code",
   "execution_count": 27,
   "id": "4ff3606b-c21f-4c39-88ec-e70c25015855",
   "metadata": {},
   "outputs": [
    {
     "name": "stdout",
     "output_type": "stream",
     "text": [
      "pre_check_2019 \n",
      "       points_r1_2019 points_r2_2019\n",
      "code                               \n",
      "AS110          391*             409\n",
      "DC004              #            357\n",
      "GY501         #726*             731 \n",
      "\n",
      "post_check_2019 \n",
      " code\n",
      "AS110     *\n",
      "DC004     #\n",
      "GY501    #*\n",
      "Name: special_chars_2019, dtype: object \n",
      "\n",
      "\n",
      "pre_check_2020 \n",
      "       *r1_2020 *r2_2020 #Test/Interview2020\n",
      "code                                       \n",
      "AD204      NaN      NaN                   #\n",
      "CK120        *        *                 NaN\n",
      "DN400      NaN        *                   # \n",
      "\n",
      "post_check_2020 \n",
      " code\n",
      "AD204     #\n",
      "CK120     *\n",
      "DN400    *#\n",
      "Name: special_chars_2020, dtype: object \n",
      "\n"
     ]
    }
   ],
   "source": [
    "\n",
    "## post parse check \n",
    "post_check_2019 = all_courses['special_chars_2019'].loc[all_courses.index.isin(['AS110','DC004', 'GY501'])]\n",
    "post_check_2020 = all_courses['special_chars_2020'].loc[all_courses.index.isin(['CK120','AD204', 'DN400'])]\n",
    "\n",
    "# print and confirm the parse worked on selected cases\n",
    "#print('pre_check_2019', '\\n', pre_check_2019)\n",
    "print('pre_check_2019', '\\n', pre_check_2019, '\\n')\n",
    "print('post_check_2019', '\\n', post_check_2019, '\\n\\n')\n",
    "print('pre_check_2020', '\\n', pre_check_2020, '\\n')\n",
    "print('post_check_2020', '\\n', post_check_2020, '\\n')"
   ]
  },
  {
   "cell_type": "markdown",
   "id": "edd65574-972c-428b-b42b-479dc665b5fa",
   "metadata": {},
   "source": [
    "\n",
    "<br>\n",
    "\n",
    "### Convert Point Columns To Numeric"
   ]
  },
  {
   "cell_type": "code",
   "execution_count": 28,
   "id": "2aef1d3b-5af3-443c-a45b-4419a3786841",
   "metadata": {},
   "outputs": [],
   "source": [
    "### Convert Point Columns To Numeric\n",
    "\n",
    "# remove special chars from 2021 and 2019 point cols\n",
    "for col in all_courses.columns:\n",
    "    if col in ['points_r1_2019', 'points_r2_2019','points_r1_2021', 'points_r2_2021']:\n",
    "        all_courses[col] = all_courses[col].str.replace('#+matric', '', regex = True).str.replace('\\*', '', regex = True).str.replace('#', '', regex = True).str.strip()\n",
    "    else:\n",
    "        pass\n",
    "    all_courses.to_csv('after parse.csv')\n",
    "    # conver all cols to numeric, cast erros as NaN\n",
    "    if 'points' in col:\n",
    "        all_courses[col]  = pd.to_numeric(all_courses[col], errors = 'coerce')"
   ]
  },
  {
   "cell_type": "markdown",
   "id": "6c341859-fb67-4281-91fe-26236fc76dbc",
   "metadata": {},
   "source": [
    "\n",
    "<br>\n",
    "\n",
    "## Plotting The Data\n",
    "### Exploring the Spread\n",
    "***\n"
   ]
  },
  {
   "cell_type": "code",
   "execution_count": 29,
   "id": "27f42690-c29c-44ad-b836-2db647150110",
   "metadata": {},
   "outputs": [
    {
     "name": "stdout",
     "output_type": "stream",
     "text": [
      "\n",
      "              The boxplot shows that the R1 and R2 points mean (yellow triangle) increased from 2020\n",
      "              to 2021. The median, 25th percentile, median and 75th percentile all show a similar \n",
      "              trend for these years. The 2019 CAO reported Mid Season Points and End of Season Points.\n",
      "              The distritution for these points appeared to be somewhere in the middle of the R1 & R2\n",
      "              points for 2020 and 2021. Many outliers can be seen accross the R1 data and 2019 EOS data.\n",
      "              The shape of the distributions will be explored Figure 2.\n",
      "\n"
     ]
    },
    {
     "data": {
      "image/png": "[encoded data removed]",
      "text/plain": [
       "<Figure size 864x720 with 2 Axes>"
      ]
     },
     "metadata": {},
     "output_type": "display_data"
    }
   ],
   "source": [
    "# declare value cols for melt function\n",
    "points_cols = ['points_r1_2019', 'points_r1_2020', 'points_r1_2021', 'points_r2_2019', 'points_r2_2020', 'points_r2_2021']\n",
    "\n",
    "# unpivot df from wide to long (this will allow use of hue parameter in seaborn boxplot)\n",
    "melted_df = pd.melt(all_courses.reset_index(), id_vars = ['category'], value_vars = points_cols)\n",
    "\n",
    "# add year col by substring check on variable col\n",
    "melted_df['year'] = np.where(melted_df['variable'].str.contains('2021'), '2021',\n",
    "                       np.where(melted_df['variable'].str.contains('2020'), '2020',\n",
    "                               np.where(melted_df['variable'].str.contains('2019'), '2019', '')))\n",
    "\n",
    "\n",
    "# generate figure with 2 rows\n",
    "fig, (ax1, ax2) = plt.subplots(2, 1 , figsize = (12, 10), sharex = True)\n",
    "plt.figtext(0.5, -0.025, 'Figure 1', wrap = True, fontsize = 15)\n",
    "ax1.set_title('Mid Season Points (2019), Round 1 Points (2020, 2021)')\n",
    "ax2.set_title('End of Season Points (2019), Round 1 Points (2020, 2021)')\n",
    "\n",
    "# R1 Boxplot, filter melted df variable col by r1 points\n",
    "sns.boxplot(ax = ax1, data = melted_df[melted_df['variable'].isin(points_cols[:3])], x = 'value', y = 'year', showmeans = True, \n",
    "            meanprops = {'markerfacecolor':'yellow', 'markeredgecolor':'yellow'})\n",
    "x = melted_df[melted_df['variable'].isin(points_cols[:3])]\n",
    "y = melted_df[melted_df['variable'].isin(points_cols[3:])]\n",
    "\n",
    "## R2 Boxplot, filter melted df variable col by r2 points\n",
    "sns.boxplot(ax = ax2, data = melted_df[melted_df['variable'].isin(points_cols[3:])], x = 'value', y = 'year', showmeans = True, \n",
    "            meanprops={'markerfacecolor':'yellow', 'markeredgecolor':'yellow'})\n",
    "\n",
    "plt.tight_layout(pad = 4)\n",
    "\n",
    "string_spacer = [' ' * 14 for i in range(6)]\n",
    "print('\\n{}The boxplot shows that the R1 and R2 points mean (yellow triangle) increased from 2020\\n\\\n",
    "{}to 2021. The median, 25th percentile, median and 75th percentile all show a similar \\n\\\n",
    "{}trend for these years. The 2019 CAO reported Mid Season Points and End of Season Points.\\n\\\n",
    "{}The distritution for these points appeared to be somewhere in the middle of the R1 & R2\\n\\\n",
    "{}points for 2020 and 2021. Many outliers can be seen accross the R1 data and 2019 EOS data.\\n\\\n",
    "{}The shape of the distributions will be explored Figure 2.\\n'.format(*string_spacer))"
   ]
  },
  {
   "cell_type": "markdown",
   "id": "93bc96eb-cfbc-4e0e-ba2b-9d4ef13a1ccf",
   "metadata": {},
   "source": [
    "### Probability Density\n",
    "***\n",
    "Although the CAO plots are discrete in nature, a histogram / KDE plot will now be used to model the probability distirbution.\n",
    "\n"
   ]
  },
  {
   "cell_type": "markdown",
   "id": "428e3ec5-297b-415f-a5b9-3186c18135fa",
   "metadata": {},
   "source": [
    "As per the CAO website certain characters / strings are present in the points data to give more information.<br>\n",
    "- Hastag symbol (#) : Course has a Test / Interview / Portfolio / Audition <br>\n",
    "- Asterix symbol (*): Course was not offered to everyone.<br>\n",
    "\n"
   ]
  },
  {
   "cell_type": "code",
   "execution_count": 30,
   "id": "efc0e74d-56f5-4f3c-bd46-b476ce21dd22",
   "metadata": {},
   "outputs": [],
   "source": [
    "\n",
    "def plot_hist_multi(df, title, plot_ref, bin_num, y_limit): \n",
    "    '''This function accepts a df and plot parameters to plot custom grid of histogram / kde plots'''\n",
    "\n",
    "    # plot 1:\n",
    "    # isolate first col of df and use passed plot ref as axex ref\n",
    "    sns.histplot(data = df, x = df.iloc[:, 0], ax = ax[plot_ref], label = df.columns[0], \n",
    "                 kde = True, color = 'blue', alpha = 0.15, bins = bin_num)\n",
    "    \n",
    "    # plot 2:\n",
    "    sns.histplot(data = df, x = df.iloc[:, 1], ax = ax[plot_ref], label = df.columns[1], \n",
    "                 kde = True, color = 'red', alpha = 0.15, bins = bin_num)\n",
    "    \n",
    "    # use passed plot ref (n, n) to determine formatting\n",
    "    ax[plot_ref].set_xlabel('Points')    \n",
    "    ax[plot_ref].title.set_text(title)\n",
    "    ax[plot_ref].set_ylim(bottom = 0, top = y_limit)\n",
    "    ax[plot_ref].legend()\n",
    "    return\n",
    "    \n"
   ]
  },
  {
   "cell_type": "code",
   "execution_count": null,
   "id": "6ebfc77f-8d92-45b4-b255-82d4c7a4d3f6",
   "metadata": {},
   "outputs": [],
   "source": []
  }
 ],
 "metadata": {
  "kernelspec": {
   "display_name": "Python 3",
   "language": "python",
   "name": "python3"
  },
  "language_info": {
   "codemirror_mode": {
    "name": "ipython",
    "version": 3
   },
   "file_extension": ".py",
   "mimetype": "text/x-python",
   "name": "python",
   "nbconvert_exporter": "python",
   "pygments_lexer": "ipython3",
   "version": "3.8.8"
  }
 },
 "nbformat": 4,
 "nbformat_minor": 5
}
