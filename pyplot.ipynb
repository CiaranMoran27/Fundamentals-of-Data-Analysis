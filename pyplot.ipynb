{
 "cells": [
  {
   "cell_type": "markdown",
   "id": "e08979dd",
   "metadata": {},
   "source": [
    "# Matplotlib\n",
    "***\n",
    "<br>\n",
    "\n",
    "[Official documentation](https://matplotlib.org/stable/api/_as_gen/matplotlib.pyplot.html)"
   ]
  },
  {
   "cell_type": "markdown",
   "id": "3a36e9fe-42ff-411c-a4af-fdd094936de6",
   "metadata": {},
   "source": [
    "## What is it?\n",
    "Matplotlib is a comprehensive library for creating static, animated, and interactive visualizations in Python programming language [5].<br>\n",
    "The library utilises a tree-like hierarchy structure to store its objects for each plot [3]. Matplotlib is a free open-sourced library<br>\n",
    "which is continually improving. \n",
    "\n",
    "## Brief History\n",
    "Matplotlib development started in the early 2000’s by John D. Hunter, a neurobiologist that emulated MATLAB’s capabilities to help<br> \n",
    "visualize electronic signals in the brain of epilepsy patients [1].Despite MATLAB’s limitations, it’s approach to plotting was retained<br>\n",
    "in the pyplot sub module which was developed to interface with Matplotlib through a collection of functions [5]. \n",
    "\n",
    "<br>\n",
    "\n",
    "## Pyplot\n",
    "***\n",
    "### Overview\n",
    "This sub module is typically imported from the Matplotlib library under the “plt”alias name and can carry out the majority of Matplotlib’s<br> \n",
    "plotting capabilities with relatively intuitive syntax.<br>\n",
    "\n",
    "Plotting via pyplot is considered the stateful approach to plotting with Matplotlib, where calls are made via plt.plot() and other top level<br>\n",
    "pyplot functions which preserve states to keep track of the current figure and axes [3]. As described in *Python Plotting With Matplotlib <br>\n",
    "(Guide) 2021*, the simplicity of pyplot’s plotting syntax can be attributed to its wrapper functions that essentially call Matplotlib’s more<br> \n",
    "complicated object orientated interface.\n",
    "\n",
    "<br>\n",
    "\n",
    "### Plotting\n",
    "Functions can be found here: [pyplot functions](https://matplotlib.org/stable/api/pyplot_summary.html)\n",
    "\n",
    "The pyplot library can do many different plots via different functions calls. The arguments accepted by the different pytplot plots are<br>\n",
    "relatively similar, but for simplicity a worked example of a line plot will be explored."
   ]
  },
  {
   "cell_type": "markdown",
   "id": "90d49dcc-6968-426a-baf7-0ecc15479038",
   "metadata": {},
   "source": [
    "#### Breakdown of plt.plot()"
   ]
  },
  {
   "cell_type": "markdown",
   "id": "93ce4ab3-6f4f-42ce-8820-4418c6312ecc",
   "metadata": {},
   "source": [
    "#### Formatting plots "
   ]
  },
  {
   "cell_type": "markdown",
   "id": "b0b494a4-cbde-4e8a-a214-fa5918fc1b1e",
   "metadata": {},
   "source": [
    "#### Preserving States"
   ]
  },
  {
   "cell_type": "markdown",
   "id": "cb8b07b4-c800-4149-8a6e-03478d261cbc",
   "metadata": {},
   "source": [
    "#### Generating subplots:"
   ]
  },
  {
   "cell_type": "markdown",
   "id": "9277d536-43ed-49b9-ae46-99605fb30a23",
   "metadata": {},
   "source": [
    "#### The stateful approach: subplot()"
   ]
  },
  {
   "cell_type": "markdown",
   "id": "23770062-4730-456e-9626-728f59db760d",
   "metadata": {},
   "source": [
    "####  The stateless approach: subplots()"
   ]
  },
  {
   "cell_type": "markdown",
   "id": "cad5d3f7-2e58-43e4-a7ba-f4b259fa9098",
   "metadata": {},
   "source": [
    "## Interesting Plots\n",
    "***"
   ]
  },
  {
   "cell_type": "code",
   "execution_count": null,
   "id": "75396779-0374-4d19-9965-5456510bd643",
   "metadata": {},
   "outputs": [],
   "source": []
  },
  {
   "cell_type": "code",
   "execution_count": null,
   "id": "da5c8f94-aa50-4c42-92d6-7f36882dd469",
   "metadata": {},
   "outputs": [],
   "source": []
  },
  {
   "cell_type": "code",
   "execution_count": null,
   "id": "9460ce76-a35f-4b6f-a648-503227160d71",
   "metadata": {},
   "outputs": [],
   "source": []
  },
  {
   "cell_type": "code",
   "execution_count": null,
   "id": "a4434746-f767-4eea-82b1-8dd6ce4f211a",
   "metadata": {},
   "outputs": [],
   "source": []
  }
 ],
 "metadata": {
  "kernelspec": {
   "display_name": "Python 3",
   "language": "python",
   "name": "python3"
  },
  "language_info": {
   "codemirror_mode": {
    "name": "ipython",
    "version": 3
   },
   "file_extension": ".py",
   "mimetype": "text/x-python",
   "name": "python",
   "nbconvert_exporter": "python",
   "pygments_lexer": "ipython3",
   "version": "3.8.8"
  }
 },
 "nbformat": 4,
 "nbformat_minor": 5
}
