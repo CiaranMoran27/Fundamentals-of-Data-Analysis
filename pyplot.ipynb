{
 "cells": [
  {
   "cell_type": "markdown",
   "id": "e08979dd",
   "metadata": {},
   "source": [
    "# Matplotlib\n",
    "***\n",
    "<br>\n",
    "\n",
    "[Official documentation](https://matplotlib.org/stable/api/_as_gen/matplotlib.pyplot.html)"
   ]
  },
  {
   "cell_type": "markdown",
   "id": "3a36e9fe-42ff-411c-a4af-fdd094936de6",
   "metadata": {},
   "source": [
    "## What is it?\n",
    "Matplotlib is a comprehensive library for creating static, animated, and interactive visualizations in Python programming language [5].<br>\n",
    "The library utilises a tree-like hierarchy structure to store its objects for each plot [3]. Matplotlib is a free open-sourced library<br>\n",
    "which is continually improving. \n",
    "\n",
    "## Brief History\n",
    "Matplotlib development started in the early 2000’s by John D. Hunter, a neurobiologist that emulated MATLAB’s capabilities to help<br> \n",
    "visualize electronic signals in the brain of epilepsy patients [1].Despite MATLAB’s limitations, it’s approach to plotting was retained<br>\n",
    "in the pyplot sub module which was developed to interface with Matplotlib through a collection of functions [5]. \n",
    "\n",
    "## Pyplot\n",
    "### Overview\n",
    "This sub module is typically imported from the Matplotlib library under the “plt”alias name and can carry out the majority of Matplotlib’s<br> \n",
    "plotting capabilities with relatively intuitive syntax.<br>\n",
    "\n",
    "Plotting via pyplot is considered the stateful approach to plotting with Matplotlib, where calls are made via plt.plot() and other top level<br>\n",
    "pyplot functions which preserve states to keep track of the current figure and axes [3]. As described in *Python Plotting With Matplotlib <br>\n",
    "(Guide) 2021*, the simplicity of pyplot’s plotting syntax can be attributed to its wrapper functions that essentially call Matplotlib’s more<br> \n",
    "complicated object orientated interface.\n",
    "\n",
    "### Plotting\n",
    "Functions can be found here: [pyplot functions](https://matplotlib.org/stable/api/pyplot_summary.html)\n",
    "\n",
    "The pyplot library can do many different plots via different functions calls. The arguments accepted by the different pytplot plots are<br>\n",
    "relatively similar, but for simplicity a worked example of a line plot will be explored."
   ]
  },
  {
   "cell_type": "code",
   "execution_count": null,
   "id": "ee912f8a",
   "metadata": {},
   "outputs": [],
   "source": []
  },
  {
   "cell_type": "code",
   "execution_count": null,
   "id": "1f2e196f",
   "metadata": {},
   "outputs": [],
   "source": []
  },
  {
   "cell_type": "code",
   "execution_count": null,
   "id": "3747529a",
   "metadata": {},
   "outputs": [],
   "source": []
  },
  {
   "cell_type": "code",
   "execution_count": null,
   "id": "541a5f4f",
   "metadata": {},
   "outputs": [],
   "source": []
  },
  {
   "cell_type": "code",
   "execution_count": null,
   "id": "f4173e26",
   "metadata": {},
   "outputs": [],
   "source": []
  },
  {
   "cell_type": "code",
   "execution_count": null,
   "id": "441387a5",
   "metadata": {},
   "outputs": [],
   "source": []
  }
 ],
 "metadata": {
  "kernelspec": {
   "display_name": "Python 3",
   "language": "python",
   "name": "python3"
  },
  "language_info": {
   "codemirror_mode": {
    "name": "ipython",
    "version": 3
   },
   "file_extension": ".py",
   "mimetype": "text/x-python",
   "name": "python",
   "nbconvert_exporter": "python",
   "pygments_lexer": "ipython3",
   "version": "3.8.8"
  }
 },
 "nbformat": 4,
 "nbformat_minor": 5
}
